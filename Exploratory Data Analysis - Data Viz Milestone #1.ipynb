{
 "cells": [
  {
   "cell_type": "code",
   "execution_count": 110,
   "id": "885323c1",
   "metadata": {},
   "outputs": [],
   "source": [
    "import pandas as pd\n",
    "import plotly.express as px\n",
    "pd.plotting.register_matplotlib_converters()\n",
    "import matplotlib.pyplot as plt\n",
    "%matplotlib inline\n",
    "import seaborn as sns\n",
    "from IPython.display import display"
   ]
  },
  {
   "cell_type": "code",
   "execution_count": 151,
   "id": "90fd5d7e",
   "metadata": {},
   "outputs": [
    {
     "name": "stdout",
     "output_type": "stream",
     "text": [
      "flight_data_unprocessed\n"
     ]
    },
    {
     "data": {
      "text/html": [
       "<div>\n",
       "<style scoped>\n",
       "    .dataframe tbody tr th:only-of-type {\n",
       "        vertical-align: middle;\n",
       "    }\n",
       "\n",
       "    .dataframe tbody tr th {\n",
       "        vertical-align: top;\n",
       "    }\n",
       "\n",
       "    .dataframe thead th {\n",
       "        text-align: right;\n",
       "    }\n",
       "</style>\n",
       "<table border=\"1\" class=\"dataframe\">\n",
       "  <thead>\n",
       "    <tr style=\"text-align: right;\">\n",
       "      <th></th>\n",
       "      <th>country</th>\n",
       "      <th>coverage</th>\n",
       "      <th>measure</th>\n",
       "      <th>year</th>\n",
       "      <th>month</th>\n",
       "      <th>passengers</th>\n",
       "    </tr>\n",
       "  </thead>\n",
       "  <tbody>\n",
       "    <tr>\n",
       "      <th>0</th>\n",
       "      <td>AUT</td>\n",
       "      <td>INTL</td>\n",
       "      <td>PAS_BRD</td>\n",
       "      <td>2022</td>\n",
       "      <td>M05</td>\n",
       "      <td>NaN</td>\n",
       "    </tr>\n",
       "    <tr>\n",
       "      <th>1</th>\n",
       "      <td>BEL</td>\n",
       "      <td>INTL</td>\n",
       "      <td>PAS_BRD</td>\n",
       "      <td>2022</td>\n",
       "      <td>M05</td>\n",
       "      <td>NaN</td>\n",
       "    </tr>\n",
       "    <tr>\n",
       "      <th>2</th>\n",
       "      <td>BGR</td>\n",
       "      <td>INTL</td>\n",
       "      <td>PAS_BRD</td>\n",
       "      <td>2022</td>\n",
       "      <td>M05</td>\n",
       "      <td>NaN</td>\n",
       "    </tr>\n",
       "    <tr>\n",
       "      <th>3</th>\n",
       "      <td>CHE</td>\n",
       "      <td>INTL</td>\n",
       "      <td>PAS_BRD</td>\n",
       "      <td>2022</td>\n",
       "      <td>M05</td>\n",
       "      <td>NaN</td>\n",
       "    </tr>\n",
       "    <tr>\n",
       "      <th>4</th>\n",
       "      <td>CYP</td>\n",
       "      <td>INTL</td>\n",
       "      <td>PAS_BRD</td>\n",
       "      <td>2022</td>\n",
       "      <td>M05</td>\n",
       "      <td>864862.0</td>\n",
       "    </tr>\n",
       "    <tr>\n",
       "      <th>...</th>\n",
       "      <td>...</td>\n",
       "      <td>...</td>\n",
       "      <td>...</td>\n",
       "      <td>...</td>\n",
       "      <td>...</td>\n",
       "      <td>...</td>\n",
       "    </tr>\n",
       "    <tr>\n",
       "      <th>37060</th>\n",
       "      <td>SWE</td>\n",
       "      <td>TOTAL</td>\n",
       "      <td>PAS_BRD</td>\n",
       "      <td>1993</td>\n",
       "      <td>M01</td>\n",
       "      <td>NaN</td>\n",
       "    </tr>\n",
       "    <tr>\n",
       "      <th>37061</th>\n",
       "      <td>SVN</td>\n",
       "      <td>TOTAL</td>\n",
       "      <td>PAS_BRD</td>\n",
       "      <td>1993</td>\n",
       "      <td>M01</td>\n",
       "      <td>NaN</td>\n",
       "    </tr>\n",
       "    <tr>\n",
       "      <th>37062</th>\n",
       "      <td>SVK</td>\n",
       "      <td>TOTAL</td>\n",
       "      <td>PAS_BRD</td>\n",
       "      <td>1993</td>\n",
       "      <td>M01</td>\n",
       "      <td>NaN</td>\n",
       "    </tr>\n",
       "    <tr>\n",
       "      <th>37063</th>\n",
       "      <td>TUR</td>\n",
       "      <td>TOTAL</td>\n",
       "      <td>PAS_BRD</td>\n",
       "      <td>1993</td>\n",
       "      <td>M01</td>\n",
       "      <td>NaN</td>\n",
       "    </tr>\n",
       "    <tr>\n",
       "      <th>37064</th>\n",
       "      <td>GBR</td>\n",
       "      <td>TOTAL</td>\n",
       "      <td>PAS_BRD</td>\n",
       "      <td>1993</td>\n",
       "      <td>M01</td>\n",
       "      <td>NaN</td>\n",
       "    </tr>\n",
       "  </tbody>\n",
       "</table>\n",
       "<p>37065 rows × 6 columns</p>\n",
       "</div>"
      ],
      "text/plain": [
       "      country coverage  measure  year month  passengers\n",
       "0         AUT     INTL  PAS_BRD  2022   M05         NaN\n",
       "1         BEL     INTL  PAS_BRD  2022   M05         NaN\n",
       "2         BGR     INTL  PAS_BRD  2022   M05         NaN\n",
       "3         CHE     INTL  PAS_BRD  2022   M05         NaN\n",
       "4         CYP     INTL  PAS_BRD  2022   M05    864862.0\n",
       "...       ...      ...      ...   ...   ...         ...\n",
       "37060     SWE    TOTAL  PAS_BRD  1993   M01         NaN\n",
       "37061     SVN    TOTAL  PAS_BRD  1993   M01         NaN\n",
       "37062     SVK    TOTAL  PAS_BRD  1993   M01         NaN\n",
       "37063     TUR    TOTAL  PAS_BRD  1993   M01         NaN\n",
       "37064     GBR    TOTAL  PAS_BRD  1993   M01         NaN\n",
       "\n",
       "[37065 rows x 6 columns]"
      ]
     },
     "metadata": {},
     "output_type": "display_data"
    },
    {
     "name": "stdout",
     "output_type": "stream",
     "text": [
      "flight_data processed\n"
     ]
    },
    {
     "name": "stderr",
     "output_type": "stream",
     "text": [
      "C:\\Users\\iniya\\AppData\\Local\\Temp\\ipykernel_22392\\1805354819.py:11: SettingWithCopyWarning:\n",
      "\n",
      "\n",
      "A value is trying to be set on a copy of a slice from a DataFrame.\n",
      "Try using .loc[row_indexer,col_indexer] = value instead\n",
      "\n",
      "See the caveats in the documentation: https://pandas.pydata.org/pandas-docs/stable/user_guide/indexing.html#returning-a-view-versus-a-copy\n",
      "\n"
     ]
    },
    {
     "data": {
      "text/html": [
       "<div>\n",
       "<style scoped>\n",
       "    .dataframe tbody tr th:only-of-type {\n",
       "        vertical-align: middle;\n",
       "    }\n",
       "\n",
       "    .dataframe tbody tr th {\n",
       "        vertical-align: top;\n",
       "    }\n",
       "\n",
       "    .dataframe thead th {\n",
       "        text-align: right;\n",
       "    }\n",
       "</style>\n",
       "<table border=\"1\" class=\"dataframe\">\n",
       "  <thead>\n",
       "    <tr style=\"text-align: right;\">\n",
       "      <th></th>\n",
       "      <th>country</th>\n",
       "      <th>coverage</th>\n",
       "      <th>measure</th>\n",
       "      <th>year</th>\n",
       "      <th>month</th>\n",
       "      <th>passengers</th>\n",
       "    </tr>\n",
       "  </thead>\n",
       "  <tbody>\n",
       "    <tr>\n",
       "      <th>0</th>\n",
       "      <td>AUT</td>\n",
       "      <td>INTL</td>\n",
       "      <td>PAS_BRD</td>\n",
       "      <td>2021</td>\n",
       "      <td>12</td>\n",
       "      <td>1026653.0</td>\n",
       "    </tr>\n",
       "    <tr>\n",
       "      <th>1</th>\n",
       "      <td>BEL</td>\n",
       "      <td>INTL</td>\n",
       "      <td>PAS_BRD</td>\n",
       "      <td>2021</td>\n",
       "      <td>12</td>\n",
       "      <td>1427912.0</td>\n",
       "    </tr>\n",
       "    <tr>\n",
       "      <th>2</th>\n",
       "      <td>BGR</td>\n",
       "      <td>INTL</td>\n",
       "      <td>PAS_BRD</td>\n",
       "      <td>2021</td>\n",
       "      <td>12</td>\n",
       "      <td>374148.0</td>\n",
       "    </tr>\n",
       "    <tr>\n",
       "      <th>3</th>\n",
       "      <td>CHE</td>\n",
       "      <td>INTL</td>\n",
       "      <td>PAS_BRD</td>\n",
       "      <td>2021</td>\n",
       "      <td>12</td>\n",
       "      <td>2046055.0</td>\n",
       "    </tr>\n",
       "    <tr>\n",
       "      <th>4</th>\n",
       "      <td>CYP</td>\n",
       "      <td>INTL</td>\n",
       "      <td>PAS_BRD</td>\n",
       "      <td>2021</td>\n",
       "      <td>12</td>\n",
       "      <td>320440.0</td>\n",
       "    </tr>\n",
       "    <tr>\n",
       "      <th>...</th>\n",
       "      <td>...</td>\n",
       "      <td>...</td>\n",
       "      <td>...</td>\n",
       "      <td>...</td>\n",
       "      <td>...</td>\n",
       "      <td>...</td>\n",
       "    </tr>\n",
       "    <tr>\n",
       "      <th>6590</th>\n",
       "      <td>ROU</td>\n",
       "      <td>INTL</td>\n",
       "      <td>PAS_BRD</td>\n",
       "      <td>2005</td>\n",
       "      <td>1</td>\n",
       "      <td>217343.0</td>\n",
       "    </tr>\n",
       "    <tr>\n",
       "      <th>6591</th>\n",
       "      <td>SWE</td>\n",
       "      <td>INTL</td>\n",
       "      <td>PAS_BRD</td>\n",
       "      <td>2005</td>\n",
       "      <td>1</td>\n",
       "      <td>1017522.0</td>\n",
       "    </tr>\n",
       "    <tr>\n",
       "      <th>6592</th>\n",
       "      <td>SVN</td>\n",
       "      <td>INTL</td>\n",
       "      <td>PAS_BRD</td>\n",
       "      <td>2005</td>\n",
       "      <td>1</td>\n",
       "      <td>71049.0</td>\n",
       "    </tr>\n",
       "    <tr>\n",
       "      <th>6593</th>\n",
       "      <td>SVK</td>\n",
       "      <td>INTL</td>\n",
       "      <td>PAS_BRD</td>\n",
       "      <td>2005</td>\n",
       "      <td>1</td>\n",
       "      <td>60347.0</td>\n",
       "    </tr>\n",
       "    <tr>\n",
       "      <th>6594</th>\n",
       "      <td>GBR</td>\n",
       "      <td>INTL</td>\n",
       "      <td>PAS_BRD</td>\n",
       "      <td>2005</td>\n",
       "      <td>1</td>\n",
       "      <td>11449974.0</td>\n",
       "    </tr>\n",
       "  </tbody>\n",
       "</table>\n",
       "<p>6595 rows × 6 columns</p>\n",
       "</div>"
      ],
      "text/plain": [
       "     country coverage  measure  year  month  passengers\n",
       "0        AUT     INTL  PAS_BRD  2021     12   1026653.0\n",
       "1        BEL     INTL  PAS_BRD  2021     12   1427912.0\n",
       "2        BGR     INTL  PAS_BRD  2021     12    374148.0\n",
       "3        CHE     INTL  PAS_BRD  2021     12   2046055.0\n",
       "4        CYP     INTL  PAS_BRD  2021     12    320440.0\n",
       "...      ...      ...      ...   ...    ...         ...\n",
       "6590     ROU     INTL  PAS_BRD  2005      1    217343.0\n",
       "6591     SWE     INTL  PAS_BRD  2005      1   1017522.0\n",
       "6592     SVN     INTL  PAS_BRD  2005      1     71049.0\n",
       "6593     SVK     INTL  PAS_BRD  2005      1     60347.0\n",
       "6594     GBR     INTL  PAS_BRD  2005      1  11449974.0\n",
       "\n",
       "[6595 rows x 6 columns]"
      ]
     },
     "metadata": {},
     "output_type": "display_data"
    },
    {
     "name": "stdout",
     "output_type": "stream",
     "text": [
      "avg_by_year\n"
     ]
    },
    {
     "data": {
      "text/html": [
       "<div>\n",
       "<style scoped>\n",
       "    .dataframe tbody tr th:only-of-type {\n",
       "        vertical-align: middle;\n",
       "    }\n",
       "\n",
       "    .dataframe tbody tr th {\n",
       "        vertical-align: top;\n",
       "    }\n",
       "\n",
       "    .dataframe thead th {\n",
       "        text-align: right;\n",
       "    }\n",
       "</style>\n",
       "<table border=\"1\" class=\"dataframe\">\n",
       "  <thead>\n",
       "    <tr style=\"text-align: right;\">\n",
       "      <th></th>\n",
       "      <th>country</th>\n",
       "      <th>month</th>\n",
       "      <th>passengers</th>\n",
       "    </tr>\n",
       "  </thead>\n",
       "  <tbody>\n",
       "    <tr>\n",
       "      <th>0</th>\n",
       "      <td>GBR</td>\n",
       "      <td>8</td>\n",
       "      <td>2.080295e+07</td>\n",
       "    </tr>\n",
       "    <tr>\n",
       "      <th>1</th>\n",
       "      <td>GBR</td>\n",
       "      <td>7</td>\n",
       "      <td>2.029113e+07</td>\n",
       "    </tr>\n",
       "    <tr>\n",
       "      <th>2</th>\n",
       "      <td>GBR</td>\n",
       "      <td>9</td>\n",
       "      <td>1.887288e+07</td>\n",
       "    </tr>\n",
       "    <tr>\n",
       "      <th>3</th>\n",
       "      <td>GBR</td>\n",
       "      <td>6</td>\n",
       "      <td>1.835998e+07</td>\n",
       "    </tr>\n",
       "    <tr>\n",
       "      <th>4</th>\n",
       "      <td>GBR</td>\n",
       "      <td>10</td>\n",
       "      <td>1.703773e+07</td>\n",
       "    </tr>\n",
       "    <tr>\n",
       "      <th>...</th>\n",
       "      <td>...</td>\n",
       "      <td>...</td>\n",
       "      <td>...</td>\n",
       "    </tr>\n",
       "    <tr>\n",
       "      <th>415</th>\n",
       "      <td>MNE</td>\n",
       "      <td>11</td>\n",
       "      <td>7.434033e+04</td>\n",
       "    </tr>\n",
       "    <tr>\n",
       "      <th>416</th>\n",
       "      <td>MNE</td>\n",
       "      <td>12</td>\n",
       "      <td>7.284500e+04</td>\n",
       "    </tr>\n",
       "    <tr>\n",
       "      <th>417</th>\n",
       "      <td>MNE</td>\n",
       "      <td>1</td>\n",
       "      <td>6.773117e+04</td>\n",
       "    </tr>\n",
       "    <tr>\n",
       "      <th>418</th>\n",
       "      <td>MNE</td>\n",
       "      <td>3</td>\n",
       "      <td>6.495867e+04</td>\n",
       "    </tr>\n",
       "    <tr>\n",
       "      <th>419</th>\n",
       "      <td>MNE</td>\n",
       "      <td>2</td>\n",
       "      <td>6.187067e+04</td>\n",
       "    </tr>\n",
       "  </tbody>\n",
       "</table>\n",
       "<p>420 rows × 3 columns</p>\n",
       "</div>"
      ],
      "text/plain": [
       "    country  month    passengers\n",
       "0       GBR      8  2.080295e+07\n",
       "1       GBR      7  2.029113e+07\n",
       "2       GBR      9  1.887288e+07\n",
       "3       GBR      6  1.835998e+07\n",
       "4       GBR     10  1.703773e+07\n",
       "..      ...    ...           ...\n",
       "415     MNE     11  7.434033e+04\n",
       "416     MNE     12  7.284500e+04\n",
       "417     MNE      1  6.773117e+04\n",
       "418     MNE      3  6.495867e+04\n",
       "419     MNE      2  6.187067e+04\n",
       "\n",
       "[420 rows x 3 columns]"
      ]
     },
     "metadata": {},
     "output_type": "display_data"
    }
   ],
   "source": [
    "flight_filepath = \"./european_tourism/Passengers_Month.csv\"\n",
    "flight_data_unprocessed = pd.read_csv(flight_filepath)\n",
    "\n",
    "print('flight_data_unprocessed')\n",
    "display(flight_data_unprocessed)\n",
    "\n",
    "# clear null passenger values\n",
    "flight_data = flight_data_unprocessed.dropna()\n",
    "\n",
    "# convert months to ints\n",
    "flight_data['month'] = flight_data['month'].str.replace('M', '').astype(int)\n",
    "\n",
    "# only include INTL flights and years 2005-2021\n",
    "flight_data = flight_data.loc[flight_data['coverage'] == 'INTL']\n",
    "flight_data = flight_data.loc[(flight_data['year'] >= 2005) & (flight_data['year'] <= 2021)]\n",
    "flight_data = flight_data.reset_index(drop=True)\n",
    "\n",
    "print(\"flight_data processed\")\n",
    "display(flight_data)\n",
    " \n",
    "# for each country, find the average number of passengers per month for all years available\n",
    "# sort from most passengers to least\n",
    "avg_by_year = flight_data.groupby([\"country\", \"month\"]).mean()\n",
    "avg_by_year = avg_by_year.reset_index(level=['country','month']).drop(columns=['year'])\n",
    "avg_by_year = avg_by_year.sort_values(by=['passengers'], ascending=False).reset_index(drop=True)\n",
    "\n",
    "\n",
    "print('avg_by_year')\n",
    "display(avg_by_year)"
   ]
  },
  {
   "cell_type": "code",
   "execution_count": 140,
   "id": "315e5fde",
   "metadata": {},
   "outputs": [
    {
     "data": {
      "application/vnd.plotly.v1+json": {
       "config": {
        "plotlyServerURL": "https://plot.ly"
       },
       "data": [
        {
         "hovertemplate": "country=AUT<br>month=%{x}<br>passengers=%{y}<extra></extra>",
         "legendgroup": "AUT",
         "line": {
          "color": "#636efa",
          "dash": "solid"
         },
         "marker": {
          "symbol": "circle"
         },
         "mode": "lines",
         "name": "AUT",
         "orientation": "v",
         "showlegend": true,
         "type": "scatter",
         "x": [
          1,
          2,
          3,
          4,
          5,
          6,
          7,
          8,
          9,
          10,
          11,
          12
         ],
         "xaxis": "x",
         "y": [
          1647096.4117647058,
          1637753.1764705882,
          1842345.294117647,
          1794081.4117647058,
          1951305.2352941176,
          2107010.411764706,
          2363687.294117647,
          2378244.7647058824,
          2267333.7647058824,
          2035683.1764705882,
          1658704.1176470588,
          1708722.7647058824
         ],
         "yaxis": "y"
        },
        {
         "hovertemplate": "country=BEL<br>month=%{x}<br>passengers=%{y}<extra></extra>",
         "legendgroup": "BEL",
         "line": {
          "color": "#EF553B",
          "dash": "solid"
         },
         "marker": {
          "symbol": "circle"
         },
         "mode": "lines",
         "name": "BEL",
         "orientation": "v",
         "showlegend": true,
         "type": "scatter",
         "x": [
          1,
          2,
          3,
          4,
          5,
          6,
          7,
          8,
          9,
          10,
          11,
          12
         ],
         "xaxis": "x",
         "y": [
          1583841.5294117648,
          1597659.7647058824,
          1783564.3529411764,
          1977941.2352941176,
          2140833.8235294116,
          2201341.588235294,
          2637261.294117647,
          2591389.117647059,
          2413030.470588235,
          2226074.882352941,
          1829345.2352941176,
          1717588.0588235294
         ],
         "yaxis": "y"
        },
        {
         "hovertemplate": "country=BGR<br>month=%{x}<br>passengers=%{y}<extra></extra>",
         "legendgroup": "BGR",
         "line": {
          "color": "#00cc96",
          "dash": "solid"
         },
         "marker": {
          "symbol": "circle"
         },
         "mode": "lines",
         "name": "BGR",
         "orientation": "v",
         "showlegend": true,
         "type": "scatter",
         "x": [
          1,
          2,
          3,
          4,
          5,
          6,
          7,
          8,
          9,
          10,
          11,
          12
         ],
         "xaxis": "x",
         "y": [
          339130.4666666667,
          315946.06666666665,
          329747.6666666667,
          340285.73333333334,
          493773.13333333336,
          938439.5333333333,
          1317138,
          1343152.7333333334,
          886938.5333333333,
          424913.3333333333,
          310266.5333333333,
          344182
         ],
         "yaxis": "y"
        },
        {
         "hovertemplate": "country=CHE<br>month=%{x}<br>passengers=%{y}<extra></extra>",
         "legendgroup": "CHE",
         "line": {
          "color": "#ab63fa",
          "dash": "solid"
         },
         "marker": {
          "symbol": "circle"
         },
         "mode": "lines",
         "name": "CHE",
         "orientation": "v",
         "showlegend": true,
         "type": "scatter",
         "x": [
          1,
          2,
          3,
          4,
          5,
          6,
          7,
          8,
          9,
          10,
          11,
          12
         ],
         "xaxis": "x",
         "y": [
          2939088.2352941176,
          2892160.117647059,
          3240487.8235294116,
          3177008.529411765,
          3210239.6470588236,
          3349322.588235294,
          3917443.411764706,
          3902169.6470588236,
          3578154.705882353,
          3626475.588235294,
          2746314.6470588236,
          2994388
         ],
         "yaxis": "y"
        },
        {
         "hovertemplate": "country=CYP<br>month=%{x}<br>passengers=%{y}<extra></extra>",
         "legendgroup": "CYP",
         "line": {
          "color": "#FFA15A",
          "dash": "solid"
         },
         "marker": {
          "symbol": "circle"
         },
         "mode": "lines",
         "name": "CYP",
         "orientation": "v",
         "showlegend": true,
         "type": "scatter",
         "x": [
          1,
          2,
          3,
          4,
          5,
          6,
          7,
          8,
          9,
          10,
          11,
          12
         ],
         "xaxis": "x",
         "y": [
          301768.64705882355,
          283495.70588235295,
          371624.9411764706,
          543707.9411764706,
          717729.8235294118,
          825381.5882352941,
          993379.9411764706,
          1061401.2352941176,
          911667.7647058824,
          840931.5294117647,
          410786.4117647059,
          329376.35294117645
         ],
         "yaxis": "y"
        },
        {
         "hovertemplate": "country=CZE<br>month=%{x}<br>passengers=%{y}<extra></extra>",
         "legendgroup": "CZE",
         "line": {
          "color": "#19d3f3",
          "dash": "solid"
         },
         "marker": {
          "symbol": "circle"
         },
         "mode": "lines",
         "name": "CZE",
         "orientation": "v",
         "showlegend": true,
         "type": "scatter",
         "x": [
          1,
          2,
          3,
          4,
          5,
          6,
          7,
          8,
          9,
          10,
          11,
          12
         ],
         "xaxis": "x",
         "y": [
          714863.9411764706,
          693547.1764705882,
          842869.1764705882,
          913034.8235294118,
          1007925.3529411765,
          1221297.2352941176,
          1422753.7647058824,
          1449186.1764705882,
          1319136.5882352942,
          1071676.6470588236,
          838005.8235294118,
          836581.3529411765
         ],
         "yaxis": "y"
        },
        {
         "hovertemplate": "country=DEU<br>month=%{x}<br>passengers=%{y}<extra></extra>",
         "legendgroup": "DEU",
         "line": {
          "color": "#FF6692",
          "dash": "solid"
         },
         "marker": {
          "symbol": "circle"
         },
         "mode": "lines",
         "name": "DEU",
         "orientation": "v",
         "showlegend": true,
         "type": "scatter",
         "x": [
          1,
          2,
          3,
          4,
          5,
          6,
          7,
          8,
          9,
          10,
          11,
          12
         ],
         "xaxis": "x",
         "y": [
          9399134.176470589,
          9132262.235294119,
          10898455.235294119,
          11415440.235294119,
          12928284.88235294,
          13648478.176470589,
          15317334.352941176,
          15597276.05882353,
          14932559.764705881,
          14524602.647058824,
          10353428.588235294,
          9885509.647058824
         ],
         "yaxis": "y"
        },
        {
         "hovertemplate": "country=DNK<br>month=%{x}<br>passengers=%{y}<extra></extra>",
         "legendgroup": "DNK",
         "line": {
          "color": "#B6E880",
          "dash": "solid"
         },
         "marker": {
          "symbol": "circle"
         },
         "mode": "lines",
         "name": "DNK",
         "orientation": "v",
         "showlegend": true,
         "type": "scatter",
         "x": [
          1,
          2,
          3,
          4,
          5,
          6,
          7,
          8,
          9,
          10,
          11,
          12
         ],
         "xaxis": "x",
         "y": [
          1591027.7647058824,
          1622714.0588235294,
          1827336,
          1825767.2352941176,
          2021461.8823529412,
          2252891.588235294,
          2550853.294117647,
          2327619.882352941,
          2227757.3529411764,
          2205900.529411765,
          1732062,
          1600011.8823529412
         ],
         "yaxis": "y"
        },
        {
         "hovertemplate": "country=ESP<br>month=%{x}<br>passengers=%{y}<extra></extra>",
         "legendgroup": "ESP",
         "line": {
          "color": "#FF97FF",
          "dash": "solid"
         },
         "marker": {
          "symbol": "circle"
         },
         "mode": "lines",
         "name": "ESP",
         "orientation": "v",
         "showlegend": true,
         "type": "scatter",
         "x": [
          1,
          2,
          3,
          4,
          5,
          6,
          7,
          8,
          9,
          10,
          11,
          12
         ],
         "xaxis": "x",
         "y": [
          7302507.647058823,
          7252132.764705882,
          8663302.235294119,
          9758902.411764706,
          11113684.411764706,
          12324568.94117647,
          14445845.176470589,
          14920869.529411765,
          13112199.11764706,
          11924119.529411765,
          7970410.235294118,
          7665665
         ],
         "yaxis": "y"
        },
        {
         "hovertemplate": "country=EST<br>month=%{x}<br>passengers=%{y}<extra></extra>",
         "legendgroup": "EST",
         "line": {
          "color": "#FECB52",
          "dash": "solid"
         },
         "marker": {
          "symbol": "circle"
         },
         "mode": "lines",
         "name": "EST",
         "orientation": "v",
         "showlegend": true,
         "type": "scatter",
         "x": [
          1,
          2,
          3,
          4,
          5,
          6,
          7,
          8,
          9,
          10,
          11,
          12
         ],
         "xaxis": "x",
         "y": [
          123380.17647058824,
          119267.5294117647,
          140632.11764705883,
          145026.35294117648,
          165488.76470588235,
          182410.29411764705,
          190313.9411764706,
          194145.76470588235,
          181537.11764705883,
          179664.23529411765,
          142975.41176470587,
          134523.9411764706
         ],
         "yaxis": "y"
        },
        {
         "hovertemplate": "country=FIN<br>month=%{x}<br>passengers=%{y}<extra></extra>",
         "legendgroup": "FIN",
         "line": {
          "color": "#636efa",
          "dash": "solid"
         },
         "marker": {
          "symbol": "circle"
         },
         "mode": "lines",
         "name": "FIN",
         "orientation": "v",
         "showlegend": true,
         "type": "scatter",
         "x": [
          1,
          2,
          3,
          4,
          5,
          6,
          7,
          8,
          9,
          10,
          11,
          12
         ],
         "xaxis": "x",
         "y": [
          972062.3529411765,
          932729.7647058824,
          1019239.2352941176,
          975351.8823529412,
          1064247.1764705882,
          1191920.7647058824,
          1221779.5882352942,
          1168885.3529411764,
          1116889.705882353,
          1151534.1764705882,
          934079.1176470588,
          1082406.7647058824
         ],
         "yaxis": "y"
        },
        {
         "hovertemplate": "country=FRA<br>month=%{x}<br>passengers=%{y}<extra></extra>",
         "legendgroup": "FRA",
         "line": {
          "color": "#EF553B",
          "dash": "solid"
         },
         "marker": {
          "symbol": "circle"
         },
         "mode": "lines",
         "name": "FRA",
         "orientation": "v",
         "showlegend": true,
         "type": "scatter",
         "x": [
          1,
          2,
          3,
          4,
          5,
          6,
          7,
          8,
          9,
          10,
          11,
          12
         ],
         "xaxis": "x",
         "y": [
          6738822.470588235,
          6421273.764705882,
          7298884.588235294,
          7996910.529411765,
          8468181.352941176,
          8722800.05882353,
          10237854.88235294,
          10508590.05882353,
          9028711.823529411,
          8555379.823529411,
          6691723.764705882,
          7013862.529411765
         ],
         "yaxis": "y"
        },
        {
         "hovertemplate": "country=GBR<br>month=%{x}<br>passengers=%{y}<extra></extra>",
         "legendgroup": "GBR",
         "line": {
          "color": "#00cc96",
          "dash": "solid"
         },
         "marker": {
          "symbol": "circle"
         },
         "mode": "lines",
         "name": "GBR",
         "orientation": "v",
         "showlegend": true,
         "type": "scatter",
         "x": [
          1,
          2,
          3,
          4,
          5,
          6,
          7,
          8,
          9,
          10,
          11,
          12
         ],
         "xaxis": "x",
         "y": [
          12903464.25,
          12696151.125,
          14392843.375,
          15031944.9375,
          16824262.75,
          18359978.0625,
          20291128.375,
          20802948.125,
          18872883,
          17037727.75,
          13302132.466666667,
          13882190.733333332
         ],
         "yaxis": "y"
        },
        {
         "hovertemplate": "country=GRC<br>month=%{x}<br>passengers=%{y}<extra></extra>",
         "legendgroup": "GRC",
         "line": {
          "color": "#ab63fa",
          "dash": "solid"
         },
         "marker": {
          "symbol": "circle"
         },
         "mode": "lines",
         "name": "GRC",
         "orientation": "v",
         "showlegend": true,
         "type": "scatter",
         "x": [
          1,
          2,
          3,
          4,
          5,
          6,
          7,
          8,
          9,
          10,
          11,
          12
         ],
         "xaxis": "x",
         "y": [
          767935.1764705882,
          677208.8235294118,
          837117.8235294118,
          1371971.8823529412,
          2873001.7647058824,
          4118186.2352941176,
          5367560.117647059,
          5750477,
          4652018.411764706,
          2766802,
          878520.9411764706,
          873279.2941176471
         ],
         "yaxis": "y"
        },
        {
         "hovertemplate": "country=HRV<br>month=%{x}<br>passengers=%{y}<extra></extra>",
         "legendgroup": "HRV",
         "line": {
          "color": "#FFA15A",
          "dash": "solid"
         },
         "marker": {
          "symbol": "circle"
         },
         "mode": "lines",
         "name": "HRV",
         "orientation": "v",
         "showlegend": true,
         "type": "scatter",
         "x": [
          1,
          2,
          3,
          4,
          5,
          6,
          7,
          8,
          9,
          10,
          11,
          12
         ],
         "xaxis": "x",
         "y": [
          139650.57142857142,
          128211.42857142857,
          168757.64285714287,
          308688.85714285716,
          519976.64285714284,
          718112.2142857143,
          1024046.4285714285,
          1057062.2857142857,
          788957.4285714285,
          475911.28571428574,
          170721.2857142857,
          155185.35714285713
         ],
         "yaxis": "y"
        },
        {
         "hovertemplate": "country=HUN<br>month=%{x}<br>passengers=%{y}<extra></extra>",
         "legendgroup": "HUN",
         "line": {
          "color": "#19d3f3",
          "dash": "solid"
         },
         "marker": {
          "symbol": "circle"
         },
         "mode": "lines",
         "name": "HUN",
         "orientation": "v",
         "showlegend": true,
         "type": "scatter",
         "x": [
          1,
          2,
          3,
          4,
          5,
          6,
          7,
          8,
          9,
          10,
          11,
          12
         ],
         "xaxis": "x",
         "y": [
          622640.1176470588,
          582966.9411764706,
          677936.1764705882,
          728772.8823529412,
          787193.1176470588,
          851771.3529411765,
          984231.5294117647,
          1013100.4705882353,
          918716.3529411765,
          863095.5882352941,
          702109.1764705882,
          685552.1764705882
         ],
         "yaxis": "y"
        },
        {
         "hovertemplate": "country=IRL<br>month=%{x}<br>passengers=%{y}<extra></extra>",
         "legendgroup": "IRL",
         "line": {
          "color": "#FF6692",
          "dash": "solid"
         },
         "marker": {
          "symbol": "circle"
         },
         "mode": "lines",
         "name": "IRL",
         "orientation": "v",
         "showlegend": true,
         "type": "scatter",
         "x": [
          1,
          2,
          3,
          4,
          5,
          6,
          7,
          8,
          9,
          10,
          11,
          12
         ],
         "xaxis": "x",
         "y": [
          1683173.0588235294,
          1677736.8235294118,
          1942131.5882352942,
          2020081.8235294118,
          2266500.117647059,
          2504167.2352941176,
          2775298.0588235296,
          2795657.9411764704,
          2437795.588235294,
          2301398.8235294116,
          1836723.8823529412,
          1801012.5882352942
         ],
         "yaxis": "y"
        },
        {
         "hovertemplate": "country=ISL<br>month=%{x}<br>passengers=%{y}<extra></extra>",
         "legendgroup": "ISL",
         "line": {
          "color": "#B6E880",
          "dash": "solid"
         },
         "marker": {
          "symbol": "circle"
         },
         "mode": "lines",
         "name": "ISL",
         "orientation": "v",
         "showlegend": true,
         "type": "scatter",
         "x": [
          1,
          2,
          3,
          4,
          5,
          6,
          7,
          8,
          9,
          10,
          11,
          12
         ],
         "xaxis": "x",
         "y": [
          221827.23529411765,
          217538.58823529413,
          251414.5294117647,
          242065.9411764706,
          272862.17647058825,
          432892.23529411765,
          525323,
          519007.5294117647,
          373198.9411764706,
          326539.4705882353,
          249219.9411764706,
          249728.29411764705
         ],
         "yaxis": "y"
        },
        {
         "hovertemplate": "country=ITA<br>month=%{x}<br>passengers=%{y}<extra></extra>",
         "legendgroup": "ITA",
         "line": {
          "color": "#FF97FF",
          "dash": "solid"
         },
         "marker": {
          "symbol": "circle"
         },
         "mode": "lines",
         "name": "ITA",
         "orientation": "v",
         "showlegend": true,
         "type": "scatter",
         "x": [
          1,
          2,
          3,
          4,
          5,
          6,
          7,
          8,
          9,
          10,
          11,
          12
         ],
         "xaxis": "x",
         "y": [
          5360837.823529412,
          5045975.823529412,
          5838208.294117647,
          6726396.117647059,
          7263878.588235294,
          7892525.235294118,
          9197905,
          9789175,
          8606677.88235294,
          7590502.647058823,
          5513817.529411765,
          5511503.117647059
         ],
         "yaxis": "y"
        },
        {
         "hovertemplate": "country=LTU<br>month=%{x}<br>passengers=%{y}<extra></extra>",
         "legendgroup": "LTU",
         "line": {
          "color": "#FECB52",
          "dash": "solid"
         },
         "marker": {
          "symbol": "circle"
         },
         "mode": "lines",
         "name": "LTU",
         "orientation": "v",
         "showlegend": true,
         "type": "scatter",
         "x": [
          1,
          2,
          3,
          4,
          5,
          6,
          7,
          8,
          9,
          10,
          11,
          12
         ],
         "xaxis": "x",
         "y": [
          225683.5294117647,
          208728.41176470587,
          230595.82352941178,
          249455,
          293567.23529411765,
          318825.4117647059,
          335567.4705882353,
          344540.23529411765,
          321342.29411764705,
          316005,
          249574.4705882353,
          242185.70588235295
         ],
         "yaxis": "y"
        },
        {
         "hovertemplate": "country=LUX<br>month=%{x}<br>passengers=%{y}<extra></extra>",
         "legendgroup": "LUX",
         "line": {
          "color": "#636efa",
          "dash": "solid"
         },
         "marker": {
          "symbol": "circle"
         },
         "mode": "lines",
         "name": "LUX",
         "orientation": "v",
         "showlegend": true,
         "type": "scatter",
         "x": [
          1,
          2,
          3,
          4,
          5,
          6,
          7,
          8,
          9,
          10,
          11,
          12
         ],
         "xaxis": "x",
         "y": [
          139887.64705882352,
          146030.29411764705,
          160931.5294117647,
          183967.9411764706,
          197519.11764705883,
          204267.9411764706,
          234365.76470588235,
          245365.35294117648,
          227071.76470588235,
          212429.88235294117,
          169947.9411764706,
          166508.0588235294
         ],
         "yaxis": "y"
        },
        {
         "hovertemplate": "country=LVA<br>month=%{x}<br>passengers=%{y}<extra></extra>",
         "legendgroup": "LVA",
         "line": {
          "color": "#EF553B",
          "dash": "solid"
         },
         "marker": {
          "symbol": "circle"
         },
         "mode": "lines",
         "name": "LVA",
         "orientation": "v",
         "showlegend": true,
         "type": "scatter",
         "x": [
          1,
          2,
          3,
          4,
          5,
          6,
          7,
          8,
          9,
          10,
          11,
          12
         ],
         "xaxis": "x",
         "y": [
          294575.5294117647,
          269720.76470588235,
          313331.9411764706,
          335063.17647058825,
          377238.82352941175,
          423193.82352941175,
          471934.35294117645,
          474423.35294117645,
          418878.29411764705,
          400529.4705882353,
          320992.70588235295,
          327855.4117647059
         ],
         "yaxis": "y"
        },
        {
         "hovertemplate": "country=MKD<br>month=%{x}<br>passengers=%{y}<extra></extra>",
         "legendgroup": "MKD",
         "line": {
          "color": "#00cc96",
          "dash": "solid"
         },
         "marker": {
          "symbol": "circle"
         },
         "mode": "lines",
         "name": "MKD",
         "orientation": "v",
         "showlegend": true,
         "type": "scatter",
         "x": [
          1,
          2,
          3,
          4,
          5,
          6,
          7,
          8,
          9,
          10,
          11,
          12
         ],
         "xaxis": "x",
         "y": [
          119237.85714285714,
          106811.42857142857,
          111743.28571428571,
          116300.71428571429,
          122667.28571428571,
          131736.42857142858,
          181069.2857142857,
          191423.2857142857,
          158710.14285714287,
          148069.42857142858,
          119323.42857142857,
          127846.42857142857
         ],
         "yaxis": "y"
        },
        {
         "hovertemplate": "country=MLT<br>month=%{x}<br>passengers=%{y}<extra></extra>",
         "legendgroup": "MLT",
         "line": {
          "color": "#ab63fa",
          "dash": "solid"
         },
         "marker": {
          "symbol": "circle"
         },
         "mode": "lines",
         "name": "MLT",
         "orientation": "v",
         "showlegend": true,
         "type": "scatter",
         "x": [
          1,
          2,
          3,
          4,
          5,
          6,
          7,
          8,
          9,
          10,
          11,
          12
         ],
         "xaxis": "x",
         "y": [
          203058.11764705883,
          202449.4705882353,
          251289.35294117648,
          315926.9411764706,
          349880.0588235294,
          376237.64705882355,
          459923.35294117645,
          492541.5882352941,
          433303.64705882355,
          394729.23529411765,
          254929.82352941178,
          227119.5294117647
         ],
         "yaxis": "y"
        },
        {
         "hovertemplate": "country=MNE<br>month=%{x}<br>passengers=%{y}<extra></extra>",
         "legendgroup": "MNE",
         "line": {
          "color": "#FFA15A",
          "dash": "solid"
         },
         "marker": {
          "symbol": "circle"
         },
         "mode": "lines",
         "name": "MNE",
         "orientation": "v",
         "showlegend": true,
         "type": "scatter",
         "x": [
          1,
          2,
          3,
          4,
          5,
          6,
          7,
          8,
          9,
          10,
          11,
          12
         ],
         "xaxis": "x",
         "y": [
          67731.16666666667,
          61870.666666666664,
          64958.666666666664,
          85338.33333333333,
          122122.33333333333,
          227607.83333333334,
          317905.8333333333,
          341093.1666666667,
          263922.8333333333,
          124125.16666666667,
          74340.33333333333,
          72845
         ],
         "yaxis": "y"
        },
        {
         "hovertemplate": "country=NLD<br>month=%{x}<br>passengers=%{y}<extra></extra>",
         "legendgroup": "NLD",
         "line": {
          "color": "#19d3f3",
          "dash": "solid"
         },
         "marker": {
          "symbol": "circle"
         },
         "mode": "lines",
         "name": "NLD",
         "orientation": "v",
         "showlegend": true,
         "type": "scatter",
         "x": [
          1,
          2,
          3,
          4,
          5,
          6,
          7,
          8,
          9,
          10,
          11,
          12
         ],
         "xaxis": "x",
         "y": [
          3831771.6470588236,
          3675141,
          4153842.470588235,
          4383328.823529412,
          4919958.176470588,
          4950060.588235294,
          5633777.294117647,
          5713683.94117647,
          5255131.882352941,
          5172710.705882353,
          4064196.117647059,
          4004208.529411765
         ],
         "yaxis": "y"
        },
        {
         "hovertemplate": "country=NOR<br>month=%{x}<br>passengers=%{y}<extra></extra>",
         "legendgroup": "NOR",
         "line": {
          "color": "#FF6692",
          "dash": "solid"
         },
         "marker": {
          "symbol": "circle"
         },
         "mode": "lines",
         "name": "NOR",
         "orientation": "v",
         "showlegend": true,
         "type": "scatter",
         "x": [
          1,
          2,
          3,
          4,
          5,
          6,
          7,
          8,
          9,
          10,
          11,
          12
         ],
         "xaxis": "x",
         "y": [
          1116158.294117647,
          1170451.1764705882,
          1303070.1176470588,
          1285985.0588235294,
          1454719.294117647,
          1716486.6470588236,
          2042329.6470588236,
          1740787.8235294118,
          1608245.3529411764,
          1568013.1764705882,
          1242462.8823529412,
          1165983.1176470588
         ],
         "yaxis": "y"
        },
        {
         "hovertemplate": "country=POL<br>month=%{x}<br>passengers=%{y}<extra></extra>",
         "legendgroup": "POL",
         "line": {
          "color": "#B6E880",
          "dash": "solid"
         },
         "marker": {
          "symbol": "circle"
         },
         "mode": "lines",
         "name": "POL",
         "orientation": "v",
         "showlegend": true,
         "type": "scatter",
         "x": [
          1,
          2,
          3,
          4,
          5,
          6,
          7,
          8,
          9,
          10,
          11,
          12
         ],
         "xaxis": "x",
         "y": [
          1461351.3529411764,
          1406295.1764705882,
          1493710.1176470588,
          1588017.1176470588,
          1871237.705882353,
          2168910.1764705884,
          2540166.117647059,
          2582893.705882353,
          2383049.705882353,
          1963529.8235294118,
          1557897.4117647058,
          1546526.7647058824
         ],
         "yaxis": "y"
        },
        {
         "hovertemplate": "country=PRT<br>month=%{x}<br>passengers=%{y}<extra></extra>",
         "legendgroup": "PRT",
         "line": {
          "color": "#FF97FF",
          "dash": "solid"
         },
         "marker": {
          "symbol": "circle"
         },
         "mode": "lines",
         "name": "PRT",
         "orientation": "v",
         "showlegend": true,
         "type": "scatter",
         "x": [
          1,
          2,
          3,
          4,
          5,
          6,
          7,
          8,
          9,
          10,
          11,
          12
         ],
         "xaxis": "x",
         "y": [
          1633207,
          1586331.6470588236,
          1875853.5882352942,
          2193865.3529411764,
          2419522.3529411764,
          2568362.705882353,
          3002693.3529411764,
          3199949.882352941,
          2887412.117647059,
          2663040.470588235,
          1821980.0588235294,
          1801761.2352941176
         ],
         "yaxis": "y"
        },
        {
         "hovertemplate": "country=ROU<br>month=%{x}<br>passengers=%{y}<extra></extra>",
         "legendgroup": "ROU",
         "line": {
          "color": "#FECB52",
          "dash": "solid"
         },
         "marker": {
          "symbol": "circle"
         },
         "mode": "lines",
         "name": "ROU",
         "orientation": "v",
         "showlegend": true,
         "type": "scatter",
         "x": [
          1,
          2,
          3,
          4,
          5,
          6,
          7,
          8,
          9,
          10,
          11,
          12
         ],
         "xaxis": "x",
         "y": [
          713518.8235294118,
          626886.5882352941,
          681598.0588235294,
          763948.0588235294,
          812907.2941176471,
          912636.4117647059,
          1087168.705882353,
          1141137.5294117648,
          1031992.0588235294,
          888267.2941176471,
          728086.8235294118,
          779179.3529411765
         ],
         "yaxis": "y"
        },
        {
         "hovertemplate": "country=RS<br>month=%{x}<br>passengers=%{y}<extra></extra>",
         "legendgroup": "RS",
         "line": {
          "color": "#636efa",
          "dash": "solid"
         },
         "marker": {
          "symbol": "circle"
         },
         "mode": "lines",
         "name": "RS",
         "orientation": "v",
         "showlegend": true,
         "type": "scatter",
         "x": [
          1,
          2,
          3,
          4,
          5,
          6,
          7,
          8,
          9,
          10,
          11,
          12
         ],
         "xaxis": "x",
         "y": [
          303425.6666666667,
          272695.1666666667,
          273280.3333333333,
          297892.6666666667,
          332393.1666666667,
          404989.1666666667,
          536316.8333333334,
          563924.1666666666,
          477678,
          422987.8,
          294120.6,
          316414.4
         ],
         "yaxis": "y"
        },
        {
         "hovertemplate": "country=SVK<br>month=%{x}<br>passengers=%{y}<extra></extra>",
         "legendgroup": "SVK",
         "line": {
          "color": "#EF553B",
          "dash": "solid"
         },
         "marker": {
          "symbol": "circle"
         },
         "mode": "lines",
         "name": "SVK",
         "orientation": "v",
         "showlegend": true,
         "type": "scatter",
         "x": [
          1,
          2,
          3,
          4,
          5,
          6,
          7,
          8,
          9,
          10,
          11,
          12
         ],
         "xaxis": "x",
         "y": [
          98256.05882352941,
          94655.35294117648,
          106731.4705882353,
          113583.4705882353,
          125554.88235294117,
          192380.5294117647,
          286420.29411764705,
          286886,
          205022.64705882352,
          134542.76470588235,
          105022.29411764706,
          106579.70588235294
         ],
         "yaxis": "y"
        },
        {
         "hovertemplate": "country=SVN<br>month=%{x}<br>passengers=%{y}<extra></extra>",
         "legendgroup": "SVN",
         "line": {
          "color": "#00cc96",
          "dash": "solid"
         },
         "marker": {
          "symbol": "circle"
         },
         "mode": "lines",
         "name": "SVN",
         "orientation": "v",
         "showlegend": true,
         "type": "scatter",
         "x": [
          1,
          2,
          3,
          4,
          5,
          6,
          7,
          8,
          9,
          10,
          11,
          12
         ],
         "xaxis": "x",
         "y": [
          75854.70588235294,
          75028.23529411765,
          87225.41176470589,
          96599.35294117648,
          112114.05882352941,
          131430.4705882353,
          160608.4705882353,
          162500.64705882352,
          142861.9411764706,
          113320.88235294117,
          84578.41176470589,
          77654.94117647059
         ],
         "yaxis": "y"
        },
        {
         "hovertemplate": "country=SWE<br>month=%{x}<br>passengers=%{y}<extra></extra>",
         "legendgroup": "SWE",
         "line": {
          "color": "#ab63fa",
          "dash": "solid"
         },
         "marker": {
          "symbol": "circle"
         },
         "mode": "lines",
         "name": "SWE",
         "orientation": "v",
         "showlegend": true,
         "type": "scatter",
         "x": [
          1,
          2,
          3,
          4,
          5,
          6,
          7,
          8,
          9,
          10,
          11,
          12
         ],
         "xaxis": "x",
         "y": [
          1521669.3529411764,
          1482052.294117647,
          1681934.8823529412,
          1698193.705882353,
          1929882.8235294118,
          2151274,
          2244356.0588235296,
          2149791.8235294116,
          2065508.0588235294,
          1979970.4705882352,
          1644673.0588235294,
          1574656.3529411764
         ],
         "yaxis": "y"
        },
        {
         "hovertemplate": "country=TUR<br>month=%{x}<br>passengers=%{y}<extra></extra>",
         "legendgroup": "TUR",
         "line": {
          "color": "#FFA15A",
          "dash": "solid"
         },
         "marker": {
          "symbol": "circle"
         },
         "mode": "lines",
         "name": "TUR",
         "orientation": "v",
         "showlegend": true,
         "type": "scatter",
         "x": [
          1,
          2,
          3,
          4,
          5,
          6,
          7,
          8,
          9,
          10,
          11,
          12
         ],
         "xaxis": "x",
         "y": [
          4125851.9,
          3862343.9,
          4379880,
          4993538.9,
          6390954.4,
          7392398.7,
          9110293.5,
          9981296.6,
          8888082.9,
          7760020.4,
          4663489,
          4355261.7
         ],
         "yaxis": "y"
        }
       ],
       "layout": {
        "height": 1000,
        "legend": {
         "title": {
          "text": "country"
         },
         "tracegroupgap": 0
        },
        "template": {
         "data": {
          "bar": [
           {
            "error_x": {
             "color": "#2a3f5f"
            },
            "error_y": {
             "color": "#2a3f5f"
            },
            "marker": {
             "line": {
              "color": "#E5ECF6",
              "width": 0.5
             },
             "pattern": {
              "fillmode": "overlay",
              "size": 10,
              "solidity": 0.2
             }
            },
            "type": "bar"
           }
          ],
          "barpolar": [
           {
            "marker": {
             "line": {
              "color": "#E5ECF6",
              "width": 0.5
             },
             "pattern": {
              "fillmode": "overlay",
              "size": 10,
              "solidity": 0.2
             }
            },
            "type": "barpolar"
           }
          ],
          "carpet": [
           {
            "aaxis": {
             "endlinecolor": "#2a3f5f",
             "gridcolor": "white",
             "linecolor": "white",
             "minorgridcolor": "white",
             "startlinecolor": "#2a3f5f"
            },
            "baxis": {
             "endlinecolor": "#2a3f5f",
             "gridcolor": "white",
             "linecolor": "white",
             "minorgridcolor": "white",
             "startlinecolor": "#2a3f5f"
            },
            "type": "carpet"
           }
          ],
          "choropleth": [
           {
            "colorbar": {
             "outlinewidth": 0,
             "ticks": ""
            },
            "type": "choropleth"
           }
          ],
          "contour": [
           {
            "colorbar": {
             "outlinewidth": 0,
             "ticks": ""
            },
            "colorscale": [
             [
              0,
              "#0d0887"
             ],
             [
              0.1111111111111111,
              "#46039f"
             ],
             [
              0.2222222222222222,
              "#7201a8"
             ],
             [
              0.3333333333333333,
              "#9c179e"
             ],
             [
              0.4444444444444444,
              "#bd3786"
             ],
             [
              0.5555555555555556,
              "#d8576b"
             ],
             [
              0.6666666666666666,
              "#ed7953"
             ],
             [
              0.7777777777777778,
              "#fb9f3a"
             ],
             [
              0.8888888888888888,
              "#fdca26"
             ],
             [
              1,
              "#f0f921"
             ]
            ],
            "type": "contour"
           }
          ],
          "contourcarpet": [
           {
            "colorbar": {
             "outlinewidth": 0,
             "ticks": ""
            },
            "type": "contourcarpet"
           }
          ],
          "heatmap": [
           {
            "colorbar": {
             "outlinewidth": 0,
             "ticks": ""
            },
            "colorscale": [
             [
              0,
              "#0d0887"
             ],
             [
              0.1111111111111111,
              "#46039f"
             ],
             [
              0.2222222222222222,
              "#7201a8"
             ],
             [
              0.3333333333333333,
              "#9c179e"
             ],
             [
              0.4444444444444444,
              "#bd3786"
             ],
             [
              0.5555555555555556,
              "#d8576b"
             ],
             [
              0.6666666666666666,
              "#ed7953"
             ],
             [
              0.7777777777777778,
              "#fb9f3a"
             ],
             [
              0.8888888888888888,
              "#fdca26"
             ],
             [
              1,
              "#f0f921"
             ]
            ],
            "type": "heatmap"
           }
          ],
          "heatmapgl": [
           {
            "colorbar": {
             "outlinewidth": 0,
             "ticks": ""
            },
            "colorscale": [
             [
              0,
              "#0d0887"
             ],
             [
              0.1111111111111111,
              "#46039f"
             ],
             [
              0.2222222222222222,
              "#7201a8"
             ],
             [
              0.3333333333333333,
              "#9c179e"
             ],
             [
              0.4444444444444444,
              "#bd3786"
             ],
             [
              0.5555555555555556,
              "#d8576b"
             ],
             [
              0.6666666666666666,
              "#ed7953"
             ],
             [
              0.7777777777777778,
              "#fb9f3a"
             ],
             [
              0.8888888888888888,
              "#fdca26"
             ],
             [
              1,
              "#f0f921"
             ]
            ],
            "type": "heatmapgl"
           }
          ],
          "histogram": [
           {
            "marker": {
             "pattern": {
              "fillmode": "overlay",
              "size": 10,
              "solidity": 0.2
             }
            },
            "type": "histogram"
           }
          ],
          "histogram2d": [
           {
            "colorbar": {
             "outlinewidth": 0,
             "ticks": ""
            },
            "colorscale": [
             [
              0,
              "#0d0887"
             ],
             [
              0.1111111111111111,
              "#46039f"
             ],
             [
              0.2222222222222222,
              "#7201a8"
             ],
             [
              0.3333333333333333,
              "#9c179e"
             ],
             [
              0.4444444444444444,
              "#bd3786"
             ],
             [
              0.5555555555555556,
              "#d8576b"
             ],
             [
              0.6666666666666666,
              "#ed7953"
             ],
             [
              0.7777777777777778,
              "#fb9f3a"
             ],
             [
              0.8888888888888888,
              "#fdca26"
             ],
             [
              1,
              "#f0f921"
             ]
            ],
            "type": "histogram2d"
           }
          ],
          "histogram2dcontour": [
           {
            "colorbar": {
             "outlinewidth": 0,
             "ticks": ""
            },
            "colorscale": [
             [
              0,
              "#0d0887"
             ],
             [
              0.1111111111111111,
              "#46039f"
             ],
             [
              0.2222222222222222,
              "#7201a8"
             ],
             [
              0.3333333333333333,
              "#9c179e"
             ],
             [
              0.4444444444444444,
              "#bd3786"
             ],
             [
              0.5555555555555556,
              "#d8576b"
             ],
             [
              0.6666666666666666,
              "#ed7953"
             ],
             [
              0.7777777777777778,
              "#fb9f3a"
             ],
             [
              0.8888888888888888,
              "#fdca26"
             ],
             [
              1,
              "#f0f921"
             ]
            ],
            "type": "histogram2dcontour"
           }
          ],
          "mesh3d": [
           {
            "colorbar": {
             "outlinewidth": 0,
             "ticks": ""
            },
            "type": "mesh3d"
           }
          ],
          "parcoords": [
           {
            "line": {
             "colorbar": {
              "outlinewidth": 0,
              "ticks": ""
             }
            },
            "type": "parcoords"
           }
          ],
          "pie": [
           {
            "automargin": true,
            "type": "pie"
           }
          ],
          "scatter": [
           {
            "fillpattern": {
             "fillmode": "overlay",
             "size": 10,
             "solidity": 0.2
            },
            "type": "scatter"
           }
          ],
          "scatter3d": [
           {
            "line": {
             "colorbar": {
              "outlinewidth": 0,
              "ticks": ""
             }
            },
            "marker": {
             "colorbar": {
              "outlinewidth": 0,
              "ticks": ""
             }
            },
            "type": "scatter3d"
           }
          ],
          "scattercarpet": [
           {
            "marker": {
             "colorbar": {
              "outlinewidth": 0,
              "ticks": ""
             }
            },
            "type": "scattercarpet"
           }
          ],
          "scattergeo": [
           {
            "marker": {
             "colorbar": {
              "outlinewidth": 0,
              "ticks": ""
             }
            },
            "type": "scattergeo"
           }
          ],
          "scattergl": [
           {
            "marker": {
             "colorbar": {
              "outlinewidth": 0,
              "ticks": ""
             }
            },
            "type": "scattergl"
           }
          ],
          "scattermapbox": [
           {
            "marker": {
             "colorbar": {
              "outlinewidth": 0,
              "ticks": ""
             }
            },
            "type": "scattermapbox"
           }
          ],
          "scatterpolar": [
           {
            "marker": {
             "colorbar": {
              "outlinewidth": 0,
              "ticks": ""
             }
            },
            "type": "scatterpolar"
           }
          ],
          "scatterpolargl": [
           {
            "marker": {
             "colorbar": {
              "outlinewidth": 0,
              "ticks": ""
             }
            },
            "type": "scatterpolargl"
           }
          ],
          "scatterternary": [
           {
            "marker": {
             "colorbar": {
              "outlinewidth": 0,
              "ticks": ""
             }
            },
            "type": "scatterternary"
           }
          ],
          "surface": [
           {
            "colorbar": {
             "outlinewidth": 0,
             "ticks": ""
            },
            "colorscale": [
             [
              0,
              "#0d0887"
             ],
             [
              0.1111111111111111,
              "#46039f"
             ],
             [
              0.2222222222222222,
              "#7201a8"
             ],
             [
              0.3333333333333333,
              "#9c179e"
             ],
             [
              0.4444444444444444,
              "#bd3786"
             ],
             [
              0.5555555555555556,
              "#d8576b"
             ],
             [
              0.6666666666666666,
              "#ed7953"
             ],
             [
              0.7777777777777778,
              "#fb9f3a"
             ],
             [
              0.8888888888888888,
              "#fdca26"
             ],
             [
              1,
              "#f0f921"
             ]
            ],
            "type": "surface"
           }
          ],
          "table": [
           {
            "cells": {
             "fill": {
              "color": "#EBF0F8"
             },
             "line": {
              "color": "white"
             }
            },
            "header": {
             "fill": {
              "color": "#C8D4E3"
             },
             "line": {
              "color": "white"
             }
            },
            "type": "table"
           }
          ]
         },
         "layout": {
          "annotationdefaults": {
           "arrowcolor": "#2a3f5f",
           "arrowhead": 0,
           "arrowwidth": 1
          },
          "autotypenumbers": "strict",
          "coloraxis": {
           "colorbar": {
            "outlinewidth": 0,
            "ticks": ""
           }
          },
          "colorscale": {
           "diverging": [
            [
             0,
             "#8e0152"
            ],
            [
             0.1,
             "#c51b7d"
            ],
            [
             0.2,
             "#de77ae"
            ],
            [
             0.3,
             "#f1b6da"
            ],
            [
             0.4,
             "#fde0ef"
            ],
            [
             0.5,
             "#f7f7f7"
            ],
            [
             0.6,
             "#e6f5d0"
            ],
            [
             0.7,
             "#b8e186"
            ],
            [
             0.8,
             "#7fbc41"
            ],
            [
             0.9,
             "#4d9221"
            ],
            [
             1,
             "#276419"
            ]
           ],
           "sequential": [
            [
             0,
             "#0d0887"
            ],
            [
             0.1111111111111111,
             "#46039f"
            ],
            [
             0.2222222222222222,
             "#7201a8"
            ],
            [
             0.3333333333333333,
             "#9c179e"
            ],
            [
             0.4444444444444444,
             "#bd3786"
            ],
            [
             0.5555555555555556,
             "#d8576b"
            ],
            [
             0.6666666666666666,
             "#ed7953"
            ],
            [
             0.7777777777777778,
             "#fb9f3a"
            ],
            [
             0.8888888888888888,
             "#fdca26"
            ],
            [
             1,
             "#f0f921"
            ]
           ],
           "sequentialminus": [
            [
             0,
             "#0d0887"
            ],
            [
             0.1111111111111111,
             "#46039f"
            ],
            [
             0.2222222222222222,
             "#7201a8"
            ],
            [
             0.3333333333333333,
             "#9c179e"
            ],
            [
             0.4444444444444444,
             "#bd3786"
            ],
            [
             0.5555555555555556,
             "#d8576b"
            ],
            [
             0.6666666666666666,
             "#ed7953"
            ],
            [
             0.7777777777777778,
             "#fb9f3a"
            ],
            [
             0.8888888888888888,
             "#fdca26"
            ],
            [
             1,
             "#f0f921"
            ]
           ]
          },
          "colorway": [
           "#636efa",
           "#EF553B",
           "#00cc96",
           "#ab63fa",
           "#FFA15A",
           "#19d3f3",
           "#FF6692",
           "#B6E880",
           "#FF97FF",
           "#FECB52"
          ],
          "font": {
           "color": "#2a3f5f"
          },
          "geo": {
           "bgcolor": "white",
           "lakecolor": "white",
           "landcolor": "#E5ECF6",
           "showlakes": true,
           "showland": true,
           "subunitcolor": "white"
          },
          "hoverlabel": {
           "align": "left"
          },
          "hovermode": "closest",
          "mapbox": {
           "style": "light"
          },
          "paper_bgcolor": "white",
          "plot_bgcolor": "#E5ECF6",
          "polar": {
           "angularaxis": {
            "gridcolor": "white",
            "linecolor": "white",
            "ticks": ""
           },
           "bgcolor": "#E5ECF6",
           "radialaxis": {
            "gridcolor": "white",
            "linecolor": "white",
            "ticks": ""
           }
          },
          "scene": {
           "xaxis": {
            "backgroundcolor": "#E5ECF6",
            "gridcolor": "white",
            "gridwidth": 2,
            "linecolor": "white",
            "showbackground": true,
            "ticks": "",
            "zerolinecolor": "white"
           },
           "yaxis": {
            "backgroundcolor": "#E5ECF6",
            "gridcolor": "white",
            "gridwidth": 2,
            "linecolor": "white",
            "showbackground": true,
            "ticks": "",
            "zerolinecolor": "white"
           },
           "zaxis": {
            "backgroundcolor": "#E5ECF6",
            "gridcolor": "white",
            "gridwidth": 2,
            "linecolor": "white",
            "showbackground": true,
            "ticks": "",
            "zerolinecolor": "white"
           }
          },
          "shapedefaults": {
           "line": {
            "color": "#2a3f5f"
           }
          },
          "ternary": {
           "aaxis": {
            "gridcolor": "white",
            "linecolor": "white",
            "ticks": ""
           },
           "baxis": {
            "gridcolor": "white",
            "linecolor": "white",
            "ticks": ""
           },
           "bgcolor": "#E5ECF6",
           "caxis": {
            "gridcolor": "white",
            "linecolor": "white",
            "ticks": ""
           }
          },
          "title": {
           "x": 0.05
          },
          "xaxis": {
           "automargin": true,
           "gridcolor": "white",
           "linecolor": "white",
           "ticks": "",
           "title": {
            "standoff": 15
           },
           "zerolinecolor": "white",
           "zerolinewidth": 2
          },
          "yaxis": {
           "automargin": true,
           "gridcolor": "white",
           "linecolor": "white",
           "ticks": "",
           "title": {
            "standoff": 15
           },
           "zerolinecolor": "white",
           "zerolinewidth": 2
          }
         }
        },
        "title": {
         "text": "Average International Passengers Per Month Travelling into a Country"
        },
        "xaxis": {
         "anchor": "y",
         "domain": [
          0,
          1
         ],
         "title": {
          "text": "month"
         }
        },
        "yaxis": {
         "anchor": "x",
         "domain": [
          0,
          1
         ],
         "title": {
          "text": "passengers"
         }
        }
       }
      },
      "text/html": [
       "<div>                            <div id=\"2b7db8a4-7ece-492e-bfee-c9c6e76c4ed7\" class=\"plotly-graph-div\" style=\"height:1000px; width:100%;\"></div>            <script type=\"text/javascript\">                require([\"plotly\"], function(Plotly) {                    window.PLOTLYENV=window.PLOTLYENV || {};                                    if (document.getElementById(\"2b7db8a4-7ece-492e-bfee-c9c6e76c4ed7\")) {                    Plotly.newPlot(                        \"2b7db8a4-7ece-492e-bfee-c9c6e76c4ed7\",                        [{\"hovertemplate\":\"country=AUT<br>month=%{x}<br>passengers=%{y}<extra></extra>\",\"legendgroup\":\"AUT\",\"line\":{\"color\":\"#636efa\",\"dash\":\"solid\"},\"marker\":{\"symbol\":\"circle\"},\"mode\":\"lines\",\"name\":\"AUT\",\"orientation\":\"v\",\"showlegend\":true,\"x\":[1,2,3,4,5,6,7,8,9,10,11,12],\"xaxis\":\"x\",\"y\":[1647096.4117647058,1637753.1764705882,1842345.294117647,1794081.4117647058,1951305.2352941176,2107010.411764706,2363687.294117647,2378244.7647058824,2267333.7647058824,2035683.1764705882,1658704.1176470588,1708722.7647058824],\"yaxis\":\"y\",\"type\":\"scatter\"},{\"hovertemplate\":\"country=BEL<br>month=%{x}<br>passengers=%{y}<extra></extra>\",\"legendgroup\":\"BEL\",\"line\":{\"color\":\"#EF553B\",\"dash\":\"solid\"},\"marker\":{\"symbol\":\"circle\"},\"mode\":\"lines\",\"name\":\"BEL\",\"orientation\":\"v\",\"showlegend\":true,\"x\":[1,2,3,4,5,6,7,8,9,10,11,12],\"xaxis\":\"x\",\"y\":[1583841.5294117648,1597659.7647058824,1783564.3529411764,1977941.2352941176,2140833.8235294116,2201341.588235294,2637261.294117647,2591389.117647059,2413030.470588235,2226074.882352941,1829345.2352941176,1717588.0588235294],\"yaxis\":\"y\",\"type\":\"scatter\"},{\"hovertemplate\":\"country=BGR<br>month=%{x}<br>passengers=%{y}<extra></extra>\",\"legendgroup\":\"BGR\",\"line\":{\"color\":\"#00cc96\",\"dash\":\"solid\"},\"marker\":{\"symbol\":\"circle\"},\"mode\":\"lines\",\"name\":\"BGR\",\"orientation\":\"v\",\"showlegend\":true,\"x\":[1,2,3,4,5,6,7,8,9,10,11,12],\"xaxis\":\"x\",\"y\":[339130.4666666667,315946.06666666665,329747.6666666667,340285.73333333334,493773.13333333336,938439.5333333333,1317138.0,1343152.7333333334,886938.5333333333,424913.3333333333,310266.5333333333,344182.0],\"yaxis\":\"y\",\"type\":\"scatter\"},{\"hovertemplate\":\"country=CHE<br>month=%{x}<br>passengers=%{y}<extra></extra>\",\"legendgroup\":\"CHE\",\"line\":{\"color\":\"#ab63fa\",\"dash\":\"solid\"},\"marker\":{\"symbol\":\"circle\"},\"mode\":\"lines\",\"name\":\"CHE\",\"orientation\":\"v\",\"showlegend\":true,\"x\":[1,2,3,4,5,6,7,8,9,10,11,12],\"xaxis\":\"x\",\"y\":[2939088.2352941176,2892160.117647059,3240487.8235294116,3177008.529411765,3210239.6470588236,3349322.588235294,3917443.411764706,3902169.6470588236,3578154.705882353,3626475.588235294,2746314.6470588236,2994388.0],\"yaxis\":\"y\",\"type\":\"scatter\"},{\"hovertemplate\":\"country=CYP<br>month=%{x}<br>passengers=%{y}<extra></extra>\",\"legendgroup\":\"CYP\",\"line\":{\"color\":\"#FFA15A\",\"dash\":\"solid\"},\"marker\":{\"symbol\":\"circle\"},\"mode\":\"lines\",\"name\":\"CYP\",\"orientation\":\"v\",\"showlegend\":true,\"x\":[1,2,3,4,5,6,7,8,9,10,11,12],\"xaxis\":\"x\",\"y\":[301768.64705882355,283495.70588235295,371624.9411764706,543707.9411764706,717729.8235294118,825381.5882352941,993379.9411764706,1061401.2352941176,911667.7647058824,840931.5294117647,410786.4117647059,329376.35294117645],\"yaxis\":\"y\",\"type\":\"scatter\"},{\"hovertemplate\":\"country=CZE<br>month=%{x}<br>passengers=%{y}<extra></extra>\",\"legendgroup\":\"CZE\",\"line\":{\"color\":\"#19d3f3\",\"dash\":\"solid\"},\"marker\":{\"symbol\":\"circle\"},\"mode\":\"lines\",\"name\":\"CZE\",\"orientation\":\"v\",\"showlegend\":true,\"x\":[1,2,3,4,5,6,7,8,9,10,11,12],\"xaxis\":\"x\",\"y\":[714863.9411764706,693547.1764705882,842869.1764705882,913034.8235294118,1007925.3529411765,1221297.2352941176,1422753.7647058824,1449186.1764705882,1319136.5882352942,1071676.6470588236,838005.8235294118,836581.3529411765],\"yaxis\":\"y\",\"type\":\"scatter\"},{\"hovertemplate\":\"country=DEU<br>month=%{x}<br>passengers=%{y}<extra></extra>\",\"legendgroup\":\"DEU\",\"line\":{\"color\":\"#FF6692\",\"dash\":\"solid\"},\"marker\":{\"symbol\":\"circle\"},\"mode\":\"lines\",\"name\":\"DEU\",\"orientation\":\"v\",\"showlegend\":true,\"x\":[1,2,3,4,5,6,7,8,9,10,11,12],\"xaxis\":\"x\",\"y\":[9399134.176470589,9132262.235294119,10898455.235294119,11415440.235294119,12928284.88235294,13648478.176470589,15317334.352941176,15597276.05882353,14932559.764705881,14524602.647058824,10353428.588235294,9885509.647058824],\"yaxis\":\"y\",\"type\":\"scatter\"},{\"hovertemplate\":\"country=DNK<br>month=%{x}<br>passengers=%{y}<extra></extra>\",\"legendgroup\":\"DNK\",\"line\":{\"color\":\"#B6E880\",\"dash\":\"solid\"},\"marker\":{\"symbol\":\"circle\"},\"mode\":\"lines\",\"name\":\"DNK\",\"orientation\":\"v\",\"showlegend\":true,\"x\":[1,2,3,4,5,6,7,8,9,10,11,12],\"xaxis\":\"x\",\"y\":[1591027.7647058824,1622714.0588235294,1827336.0,1825767.2352941176,2021461.8823529412,2252891.588235294,2550853.294117647,2327619.882352941,2227757.3529411764,2205900.529411765,1732062.0,1600011.8823529412],\"yaxis\":\"y\",\"type\":\"scatter\"},{\"hovertemplate\":\"country=ESP<br>month=%{x}<br>passengers=%{y}<extra></extra>\",\"legendgroup\":\"ESP\",\"line\":{\"color\":\"#FF97FF\",\"dash\":\"solid\"},\"marker\":{\"symbol\":\"circle\"},\"mode\":\"lines\",\"name\":\"ESP\",\"orientation\":\"v\",\"showlegend\":true,\"x\":[1,2,3,4,5,6,7,8,9,10,11,12],\"xaxis\":\"x\",\"y\":[7302507.647058823,7252132.764705882,8663302.235294119,9758902.411764706,11113684.411764706,12324568.94117647,14445845.176470589,14920869.529411765,13112199.11764706,11924119.529411765,7970410.235294118,7665665.0],\"yaxis\":\"y\",\"type\":\"scatter\"},{\"hovertemplate\":\"country=EST<br>month=%{x}<br>passengers=%{y}<extra></extra>\",\"legendgroup\":\"EST\",\"line\":{\"color\":\"#FECB52\",\"dash\":\"solid\"},\"marker\":{\"symbol\":\"circle\"},\"mode\":\"lines\",\"name\":\"EST\",\"orientation\":\"v\",\"showlegend\":true,\"x\":[1,2,3,4,5,6,7,8,9,10,11,12],\"xaxis\":\"x\",\"y\":[123380.17647058824,119267.5294117647,140632.11764705883,145026.35294117648,165488.76470588235,182410.29411764705,190313.9411764706,194145.76470588235,181537.11764705883,179664.23529411765,142975.41176470587,134523.9411764706],\"yaxis\":\"y\",\"type\":\"scatter\"},{\"hovertemplate\":\"country=FIN<br>month=%{x}<br>passengers=%{y}<extra></extra>\",\"legendgroup\":\"FIN\",\"line\":{\"color\":\"#636efa\",\"dash\":\"solid\"},\"marker\":{\"symbol\":\"circle\"},\"mode\":\"lines\",\"name\":\"FIN\",\"orientation\":\"v\",\"showlegend\":true,\"x\":[1,2,3,4,5,6,7,8,9,10,11,12],\"xaxis\":\"x\",\"y\":[972062.3529411765,932729.7647058824,1019239.2352941176,975351.8823529412,1064247.1764705882,1191920.7647058824,1221779.5882352942,1168885.3529411764,1116889.705882353,1151534.1764705882,934079.1176470588,1082406.7647058824],\"yaxis\":\"y\",\"type\":\"scatter\"},{\"hovertemplate\":\"country=FRA<br>month=%{x}<br>passengers=%{y}<extra></extra>\",\"legendgroup\":\"FRA\",\"line\":{\"color\":\"#EF553B\",\"dash\":\"solid\"},\"marker\":{\"symbol\":\"circle\"},\"mode\":\"lines\",\"name\":\"FRA\",\"orientation\":\"v\",\"showlegend\":true,\"x\":[1,2,3,4,5,6,7,8,9,10,11,12],\"xaxis\":\"x\",\"y\":[6738822.470588235,6421273.764705882,7298884.588235294,7996910.529411765,8468181.352941176,8722800.05882353,10237854.88235294,10508590.05882353,9028711.823529411,8555379.823529411,6691723.764705882,7013862.529411765],\"yaxis\":\"y\",\"type\":\"scatter\"},{\"hovertemplate\":\"country=GBR<br>month=%{x}<br>passengers=%{y}<extra></extra>\",\"legendgroup\":\"GBR\",\"line\":{\"color\":\"#00cc96\",\"dash\":\"solid\"},\"marker\":{\"symbol\":\"circle\"},\"mode\":\"lines\",\"name\":\"GBR\",\"orientation\":\"v\",\"showlegend\":true,\"x\":[1,2,3,4,5,6,7,8,9,10,11,12],\"xaxis\":\"x\",\"y\":[12903464.25,12696151.125,14392843.375,15031944.9375,16824262.75,18359978.0625,20291128.375,20802948.125,18872883.0,17037727.75,13302132.466666667,13882190.733333332],\"yaxis\":\"y\",\"type\":\"scatter\"},{\"hovertemplate\":\"country=GRC<br>month=%{x}<br>passengers=%{y}<extra></extra>\",\"legendgroup\":\"GRC\",\"line\":{\"color\":\"#ab63fa\",\"dash\":\"solid\"},\"marker\":{\"symbol\":\"circle\"},\"mode\":\"lines\",\"name\":\"GRC\",\"orientation\":\"v\",\"showlegend\":true,\"x\":[1,2,3,4,5,6,7,8,9,10,11,12],\"xaxis\":\"x\",\"y\":[767935.1764705882,677208.8235294118,837117.8235294118,1371971.8823529412,2873001.7647058824,4118186.2352941176,5367560.117647059,5750477.0,4652018.411764706,2766802.0,878520.9411764706,873279.2941176471],\"yaxis\":\"y\",\"type\":\"scatter\"},{\"hovertemplate\":\"country=HRV<br>month=%{x}<br>passengers=%{y}<extra></extra>\",\"legendgroup\":\"HRV\",\"line\":{\"color\":\"#FFA15A\",\"dash\":\"solid\"},\"marker\":{\"symbol\":\"circle\"},\"mode\":\"lines\",\"name\":\"HRV\",\"orientation\":\"v\",\"showlegend\":true,\"x\":[1,2,3,4,5,6,7,8,9,10,11,12],\"xaxis\":\"x\",\"y\":[139650.57142857142,128211.42857142857,168757.64285714287,308688.85714285716,519976.64285714284,718112.2142857143,1024046.4285714285,1057062.2857142857,788957.4285714285,475911.28571428574,170721.2857142857,155185.35714285713],\"yaxis\":\"y\",\"type\":\"scatter\"},{\"hovertemplate\":\"country=HUN<br>month=%{x}<br>passengers=%{y}<extra></extra>\",\"legendgroup\":\"HUN\",\"line\":{\"color\":\"#19d3f3\",\"dash\":\"solid\"},\"marker\":{\"symbol\":\"circle\"},\"mode\":\"lines\",\"name\":\"HUN\",\"orientation\":\"v\",\"showlegend\":true,\"x\":[1,2,3,4,5,6,7,8,9,10,11,12],\"xaxis\":\"x\",\"y\":[622640.1176470588,582966.9411764706,677936.1764705882,728772.8823529412,787193.1176470588,851771.3529411765,984231.5294117647,1013100.4705882353,918716.3529411765,863095.5882352941,702109.1764705882,685552.1764705882],\"yaxis\":\"y\",\"type\":\"scatter\"},{\"hovertemplate\":\"country=IRL<br>month=%{x}<br>passengers=%{y}<extra></extra>\",\"legendgroup\":\"IRL\",\"line\":{\"color\":\"#FF6692\",\"dash\":\"solid\"},\"marker\":{\"symbol\":\"circle\"},\"mode\":\"lines\",\"name\":\"IRL\",\"orientation\":\"v\",\"showlegend\":true,\"x\":[1,2,3,4,5,6,7,8,9,10,11,12],\"xaxis\":\"x\",\"y\":[1683173.0588235294,1677736.8235294118,1942131.5882352942,2020081.8235294118,2266500.117647059,2504167.2352941176,2775298.0588235296,2795657.9411764704,2437795.588235294,2301398.8235294116,1836723.8823529412,1801012.5882352942],\"yaxis\":\"y\",\"type\":\"scatter\"},{\"hovertemplate\":\"country=ISL<br>month=%{x}<br>passengers=%{y}<extra></extra>\",\"legendgroup\":\"ISL\",\"line\":{\"color\":\"#B6E880\",\"dash\":\"solid\"},\"marker\":{\"symbol\":\"circle\"},\"mode\":\"lines\",\"name\":\"ISL\",\"orientation\":\"v\",\"showlegend\":true,\"x\":[1,2,3,4,5,6,7,8,9,10,11,12],\"xaxis\":\"x\",\"y\":[221827.23529411765,217538.58823529413,251414.5294117647,242065.9411764706,272862.17647058825,432892.23529411765,525323.0,519007.5294117647,373198.9411764706,326539.4705882353,249219.9411764706,249728.29411764705],\"yaxis\":\"y\",\"type\":\"scatter\"},{\"hovertemplate\":\"country=ITA<br>month=%{x}<br>passengers=%{y}<extra></extra>\",\"legendgroup\":\"ITA\",\"line\":{\"color\":\"#FF97FF\",\"dash\":\"solid\"},\"marker\":{\"symbol\":\"circle\"},\"mode\":\"lines\",\"name\":\"ITA\",\"orientation\":\"v\",\"showlegend\":true,\"x\":[1,2,3,4,5,6,7,8,9,10,11,12],\"xaxis\":\"x\",\"y\":[5360837.823529412,5045975.823529412,5838208.294117647,6726396.117647059,7263878.588235294,7892525.235294118,9197905.0,9789175.0,8606677.88235294,7590502.647058823,5513817.529411765,5511503.117647059],\"yaxis\":\"y\",\"type\":\"scatter\"},{\"hovertemplate\":\"country=LTU<br>month=%{x}<br>passengers=%{y}<extra></extra>\",\"legendgroup\":\"LTU\",\"line\":{\"color\":\"#FECB52\",\"dash\":\"solid\"},\"marker\":{\"symbol\":\"circle\"},\"mode\":\"lines\",\"name\":\"LTU\",\"orientation\":\"v\",\"showlegend\":true,\"x\":[1,2,3,4,5,6,7,8,9,10,11,12],\"xaxis\":\"x\",\"y\":[225683.5294117647,208728.41176470587,230595.82352941178,249455.0,293567.23529411765,318825.4117647059,335567.4705882353,344540.23529411765,321342.29411764705,316005.0,249574.4705882353,242185.70588235295],\"yaxis\":\"y\",\"type\":\"scatter\"},{\"hovertemplate\":\"country=LUX<br>month=%{x}<br>passengers=%{y}<extra></extra>\",\"legendgroup\":\"LUX\",\"line\":{\"color\":\"#636efa\",\"dash\":\"solid\"},\"marker\":{\"symbol\":\"circle\"},\"mode\":\"lines\",\"name\":\"LUX\",\"orientation\":\"v\",\"showlegend\":true,\"x\":[1,2,3,4,5,6,7,8,9,10,11,12],\"xaxis\":\"x\",\"y\":[139887.64705882352,146030.29411764705,160931.5294117647,183967.9411764706,197519.11764705883,204267.9411764706,234365.76470588235,245365.35294117648,227071.76470588235,212429.88235294117,169947.9411764706,166508.0588235294],\"yaxis\":\"y\",\"type\":\"scatter\"},{\"hovertemplate\":\"country=LVA<br>month=%{x}<br>passengers=%{y}<extra></extra>\",\"legendgroup\":\"LVA\",\"line\":{\"color\":\"#EF553B\",\"dash\":\"solid\"},\"marker\":{\"symbol\":\"circle\"},\"mode\":\"lines\",\"name\":\"LVA\",\"orientation\":\"v\",\"showlegend\":true,\"x\":[1,2,3,4,5,6,7,8,9,10,11,12],\"xaxis\":\"x\",\"y\":[294575.5294117647,269720.76470588235,313331.9411764706,335063.17647058825,377238.82352941175,423193.82352941175,471934.35294117645,474423.35294117645,418878.29411764705,400529.4705882353,320992.70588235295,327855.4117647059],\"yaxis\":\"y\",\"type\":\"scatter\"},{\"hovertemplate\":\"country=MKD<br>month=%{x}<br>passengers=%{y}<extra></extra>\",\"legendgroup\":\"MKD\",\"line\":{\"color\":\"#00cc96\",\"dash\":\"solid\"},\"marker\":{\"symbol\":\"circle\"},\"mode\":\"lines\",\"name\":\"MKD\",\"orientation\":\"v\",\"showlegend\":true,\"x\":[1,2,3,4,5,6,7,8,9,10,11,12],\"xaxis\":\"x\",\"y\":[119237.85714285714,106811.42857142857,111743.28571428571,116300.71428571429,122667.28571428571,131736.42857142858,181069.2857142857,191423.2857142857,158710.14285714287,148069.42857142858,119323.42857142857,127846.42857142857],\"yaxis\":\"y\",\"type\":\"scatter\"},{\"hovertemplate\":\"country=MLT<br>month=%{x}<br>passengers=%{y}<extra></extra>\",\"legendgroup\":\"MLT\",\"line\":{\"color\":\"#ab63fa\",\"dash\":\"solid\"},\"marker\":{\"symbol\":\"circle\"},\"mode\":\"lines\",\"name\":\"MLT\",\"orientation\":\"v\",\"showlegend\":true,\"x\":[1,2,3,4,5,6,7,8,9,10,11,12],\"xaxis\":\"x\",\"y\":[203058.11764705883,202449.4705882353,251289.35294117648,315926.9411764706,349880.0588235294,376237.64705882355,459923.35294117645,492541.5882352941,433303.64705882355,394729.23529411765,254929.82352941178,227119.5294117647],\"yaxis\":\"y\",\"type\":\"scatter\"},{\"hovertemplate\":\"country=MNE<br>month=%{x}<br>passengers=%{y}<extra></extra>\",\"legendgroup\":\"MNE\",\"line\":{\"color\":\"#FFA15A\",\"dash\":\"solid\"},\"marker\":{\"symbol\":\"circle\"},\"mode\":\"lines\",\"name\":\"MNE\",\"orientation\":\"v\",\"showlegend\":true,\"x\":[1,2,3,4,5,6,7,8,9,10,11,12],\"xaxis\":\"x\",\"y\":[67731.16666666667,61870.666666666664,64958.666666666664,85338.33333333333,122122.33333333333,227607.83333333334,317905.8333333333,341093.1666666667,263922.8333333333,124125.16666666667,74340.33333333333,72845.0],\"yaxis\":\"y\",\"type\":\"scatter\"},{\"hovertemplate\":\"country=NLD<br>month=%{x}<br>passengers=%{y}<extra></extra>\",\"legendgroup\":\"NLD\",\"line\":{\"color\":\"#19d3f3\",\"dash\":\"solid\"},\"marker\":{\"symbol\":\"circle\"},\"mode\":\"lines\",\"name\":\"NLD\",\"orientation\":\"v\",\"showlegend\":true,\"x\":[1,2,3,4,5,6,7,8,9,10,11,12],\"xaxis\":\"x\",\"y\":[3831771.6470588236,3675141.0,4153842.470588235,4383328.823529412,4919958.176470588,4950060.588235294,5633777.294117647,5713683.94117647,5255131.882352941,5172710.705882353,4064196.117647059,4004208.529411765],\"yaxis\":\"y\",\"type\":\"scatter\"},{\"hovertemplate\":\"country=NOR<br>month=%{x}<br>passengers=%{y}<extra></extra>\",\"legendgroup\":\"NOR\",\"line\":{\"color\":\"#FF6692\",\"dash\":\"solid\"},\"marker\":{\"symbol\":\"circle\"},\"mode\":\"lines\",\"name\":\"NOR\",\"orientation\":\"v\",\"showlegend\":true,\"x\":[1,2,3,4,5,6,7,8,9,10,11,12],\"xaxis\":\"x\",\"y\":[1116158.294117647,1170451.1764705882,1303070.1176470588,1285985.0588235294,1454719.294117647,1716486.6470588236,2042329.6470588236,1740787.8235294118,1608245.3529411764,1568013.1764705882,1242462.8823529412,1165983.1176470588],\"yaxis\":\"y\",\"type\":\"scatter\"},{\"hovertemplate\":\"country=POL<br>month=%{x}<br>passengers=%{y}<extra></extra>\",\"legendgroup\":\"POL\",\"line\":{\"color\":\"#B6E880\",\"dash\":\"solid\"},\"marker\":{\"symbol\":\"circle\"},\"mode\":\"lines\",\"name\":\"POL\",\"orientation\":\"v\",\"showlegend\":true,\"x\":[1,2,3,4,5,6,7,8,9,10,11,12],\"xaxis\":\"x\",\"y\":[1461351.3529411764,1406295.1764705882,1493710.1176470588,1588017.1176470588,1871237.705882353,2168910.1764705884,2540166.117647059,2582893.705882353,2383049.705882353,1963529.8235294118,1557897.4117647058,1546526.7647058824],\"yaxis\":\"y\",\"type\":\"scatter\"},{\"hovertemplate\":\"country=PRT<br>month=%{x}<br>passengers=%{y}<extra></extra>\",\"legendgroup\":\"PRT\",\"line\":{\"color\":\"#FF97FF\",\"dash\":\"solid\"},\"marker\":{\"symbol\":\"circle\"},\"mode\":\"lines\",\"name\":\"PRT\",\"orientation\":\"v\",\"showlegend\":true,\"x\":[1,2,3,4,5,6,7,8,9,10,11,12],\"xaxis\":\"x\",\"y\":[1633207.0,1586331.6470588236,1875853.5882352942,2193865.3529411764,2419522.3529411764,2568362.705882353,3002693.3529411764,3199949.882352941,2887412.117647059,2663040.470588235,1821980.0588235294,1801761.2352941176],\"yaxis\":\"y\",\"type\":\"scatter\"},{\"hovertemplate\":\"country=ROU<br>month=%{x}<br>passengers=%{y}<extra></extra>\",\"legendgroup\":\"ROU\",\"line\":{\"color\":\"#FECB52\",\"dash\":\"solid\"},\"marker\":{\"symbol\":\"circle\"},\"mode\":\"lines\",\"name\":\"ROU\",\"orientation\":\"v\",\"showlegend\":true,\"x\":[1,2,3,4,5,6,7,8,9,10,11,12],\"xaxis\":\"x\",\"y\":[713518.8235294118,626886.5882352941,681598.0588235294,763948.0588235294,812907.2941176471,912636.4117647059,1087168.705882353,1141137.5294117648,1031992.0588235294,888267.2941176471,728086.8235294118,779179.3529411765],\"yaxis\":\"y\",\"type\":\"scatter\"},{\"hovertemplate\":\"country=RS<br>month=%{x}<br>passengers=%{y}<extra></extra>\",\"legendgroup\":\"RS\",\"line\":{\"color\":\"#636efa\",\"dash\":\"solid\"},\"marker\":{\"symbol\":\"circle\"},\"mode\":\"lines\",\"name\":\"RS\",\"orientation\":\"v\",\"showlegend\":true,\"x\":[1,2,3,4,5,6,7,8,9,10,11,12],\"xaxis\":\"x\",\"y\":[303425.6666666667,272695.1666666667,273280.3333333333,297892.6666666667,332393.1666666667,404989.1666666667,536316.8333333334,563924.1666666666,477678.0,422987.8,294120.6,316414.4],\"yaxis\":\"y\",\"type\":\"scatter\"},{\"hovertemplate\":\"country=SVK<br>month=%{x}<br>passengers=%{y}<extra></extra>\",\"legendgroup\":\"SVK\",\"line\":{\"color\":\"#EF553B\",\"dash\":\"solid\"},\"marker\":{\"symbol\":\"circle\"},\"mode\":\"lines\",\"name\":\"SVK\",\"orientation\":\"v\",\"showlegend\":true,\"x\":[1,2,3,4,5,6,7,8,9,10,11,12],\"xaxis\":\"x\",\"y\":[98256.05882352941,94655.35294117648,106731.4705882353,113583.4705882353,125554.88235294117,192380.5294117647,286420.29411764705,286886.0,205022.64705882352,134542.76470588235,105022.29411764706,106579.70588235294],\"yaxis\":\"y\",\"type\":\"scatter\"},{\"hovertemplate\":\"country=SVN<br>month=%{x}<br>passengers=%{y}<extra></extra>\",\"legendgroup\":\"SVN\",\"line\":{\"color\":\"#00cc96\",\"dash\":\"solid\"},\"marker\":{\"symbol\":\"circle\"},\"mode\":\"lines\",\"name\":\"SVN\",\"orientation\":\"v\",\"showlegend\":true,\"x\":[1,2,3,4,5,6,7,8,9,10,11,12],\"xaxis\":\"x\",\"y\":[75854.70588235294,75028.23529411765,87225.41176470589,96599.35294117648,112114.05882352941,131430.4705882353,160608.4705882353,162500.64705882352,142861.9411764706,113320.88235294117,84578.41176470589,77654.94117647059],\"yaxis\":\"y\",\"type\":\"scatter\"},{\"hovertemplate\":\"country=SWE<br>month=%{x}<br>passengers=%{y}<extra></extra>\",\"legendgroup\":\"SWE\",\"line\":{\"color\":\"#ab63fa\",\"dash\":\"solid\"},\"marker\":{\"symbol\":\"circle\"},\"mode\":\"lines\",\"name\":\"SWE\",\"orientation\":\"v\",\"showlegend\":true,\"x\":[1,2,3,4,5,6,7,8,9,10,11,12],\"xaxis\":\"x\",\"y\":[1521669.3529411764,1482052.294117647,1681934.8823529412,1698193.705882353,1929882.8235294118,2151274.0,2244356.0588235296,2149791.8235294116,2065508.0588235294,1979970.4705882352,1644673.0588235294,1574656.3529411764],\"yaxis\":\"y\",\"type\":\"scatter\"},{\"hovertemplate\":\"country=TUR<br>month=%{x}<br>passengers=%{y}<extra></extra>\",\"legendgroup\":\"TUR\",\"line\":{\"color\":\"#FFA15A\",\"dash\":\"solid\"},\"marker\":{\"symbol\":\"circle\"},\"mode\":\"lines\",\"name\":\"TUR\",\"orientation\":\"v\",\"showlegend\":true,\"x\":[1,2,3,4,5,6,7,8,9,10,11,12],\"xaxis\":\"x\",\"y\":[4125851.9,3862343.9,4379880.0,4993538.9,6390954.4,7392398.7,9110293.5,9981296.6,8888082.9,7760020.4,4663489.0,4355261.7],\"yaxis\":\"y\",\"type\":\"scatter\"}],                        {\"template\":{\"data\":{\"histogram2dcontour\":[{\"type\":\"histogram2dcontour\",\"colorbar\":{\"outlinewidth\":0,\"ticks\":\"\"},\"colorscale\":[[0.0,\"#0d0887\"],[0.1111111111111111,\"#46039f\"],[0.2222222222222222,\"#7201a8\"],[0.3333333333333333,\"#9c179e\"],[0.4444444444444444,\"#bd3786\"],[0.5555555555555556,\"#d8576b\"],[0.6666666666666666,\"#ed7953\"],[0.7777777777777778,\"#fb9f3a\"],[0.8888888888888888,\"#fdca26\"],[1.0,\"#f0f921\"]]}],\"choropleth\":[{\"type\":\"choropleth\",\"colorbar\":{\"outlinewidth\":0,\"ticks\":\"\"}}],\"histogram2d\":[{\"type\":\"histogram2d\",\"colorbar\":{\"outlinewidth\":0,\"ticks\":\"\"},\"colorscale\":[[0.0,\"#0d0887\"],[0.1111111111111111,\"#46039f\"],[0.2222222222222222,\"#7201a8\"],[0.3333333333333333,\"#9c179e\"],[0.4444444444444444,\"#bd3786\"],[0.5555555555555556,\"#d8576b\"],[0.6666666666666666,\"#ed7953\"],[0.7777777777777778,\"#fb9f3a\"],[0.8888888888888888,\"#fdca26\"],[1.0,\"#f0f921\"]]}],\"heatmap\":[{\"type\":\"heatmap\",\"colorbar\":{\"outlinewidth\":0,\"ticks\":\"\"},\"colorscale\":[[0.0,\"#0d0887\"],[0.1111111111111111,\"#46039f\"],[0.2222222222222222,\"#7201a8\"],[0.3333333333333333,\"#9c179e\"],[0.4444444444444444,\"#bd3786\"],[0.5555555555555556,\"#d8576b\"],[0.6666666666666666,\"#ed7953\"],[0.7777777777777778,\"#fb9f3a\"],[0.8888888888888888,\"#fdca26\"],[1.0,\"#f0f921\"]]}],\"heatmapgl\":[{\"type\":\"heatmapgl\",\"colorbar\":{\"outlinewidth\":0,\"ticks\":\"\"},\"colorscale\":[[0.0,\"#0d0887\"],[0.1111111111111111,\"#46039f\"],[0.2222222222222222,\"#7201a8\"],[0.3333333333333333,\"#9c179e\"],[0.4444444444444444,\"#bd3786\"],[0.5555555555555556,\"#d8576b\"],[0.6666666666666666,\"#ed7953\"],[0.7777777777777778,\"#fb9f3a\"],[0.8888888888888888,\"#fdca26\"],[1.0,\"#f0f921\"]]}],\"contourcarpet\":[{\"type\":\"contourcarpet\",\"colorbar\":{\"outlinewidth\":0,\"ticks\":\"\"}}],\"contour\":[{\"type\":\"contour\",\"colorbar\":{\"outlinewidth\":0,\"ticks\":\"\"},\"colorscale\":[[0.0,\"#0d0887\"],[0.1111111111111111,\"#46039f\"],[0.2222222222222222,\"#7201a8\"],[0.3333333333333333,\"#9c179e\"],[0.4444444444444444,\"#bd3786\"],[0.5555555555555556,\"#d8576b\"],[0.6666666666666666,\"#ed7953\"],[0.7777777777777778,\"#fb9f3a\"],[0.8888888888888888,\"#fdca26\"],[1.0,\"#f0f921\"]]}],\"surface\":[{\"type\":\"surface\",\"colorbar\":{\"outlinewidth\":0,\"ticks\":\"\"},\"colorscale\":[[0.0,\"#0d0887\"],[0.1111111111111111,\"#46039f\"],[0.2222222222222222,\"#7201a8\"],[0.3333333333333333,\"#9c179e\"],[0.4444444444444444,\"#bd3786\"],[0.5555555555555556,\"#d8576b\"],[0.6666666666666666,\"#ed7953\"],[0.7777777777777778,\"#fb9f3a\"],[0.8888888888888888,\"#fdca26\"],[1.0,\"#f0f921\"]]}],\"mesh3d\":[{\"type\":\"mesh3d\",\"colorbar\":{\"outlinewidth\":0,\"ticks\":\"\"}}],\"scatter\":[{\"fillpattern\":{\"fillmode\":\"overlay\",\"size\":10,\"solidity\":0.2},\"type\":\"scatter\"}],\"parcoords\":[{\"type\":\"parcoords\",\"line\":{\"colorbar\":{\"outlinewidth\":0,\"ticks\":\"\"}}}],\"scatterpolargl\":[{\"type\":\"scatterpolargl\",\"marker\":{\"colorbar\":{\"outlinewidth\":0,\"ticks\":\"\"}}}],\"bar\":[{\"error_x\":{\"color\":\"#2a3f5f\"},\"error_y\":{\"color\":\"#2a3f5f\"},\"marker\":{\"line\":{\"color\":\"#E5ECF6\",\"width\":0.5},\"pattern\":{\"fillmode\":\"overlay\",\"size\":10,\"solidity\":0.2}},\"type\":\"bar\"}],\"scattergeo\":[{\"type\":\"scattergeo\",\"marker\":{\"colorbar\":{\"outlinewidth\":0,\"ticks\":\"\"}}}],\"scatterpolar\":[{\"type\":\"scatterpolar\",\"marker\":{\"colorbar\":{\"outlinewidth\":0,\"ticks\":\"\"}}}],\"histogram\":[{\"marker\":{\"pattern\":{\"fillmode\":\"overlay\",\"size\":10,\"solidity\":0.2}},\"type\":\"histogram\"}],\"scattergl\":[{\"type\":\"scattergl\",\"marker\":{\"colorbar\":{\"outlinewidth\":0,\"ticks\":\"\"}}}],\"scatter3d\":[{\"type\":\"scatter3d\",\"line\":{\"colorbar\":{\"outlinewidth\":0,\"ticks\":\"\"}},\"marker\":{\"colorbar\":{\"outlinewidth\":0,\"ticks\":\"\"}}}],\"scattermapbox\":[{\"type\":\"scattermapbox\",\"marker\":{\"colorbar\":{\"outlinewidth\":0,\"ticks\":\"\"}}}],\"scatterternary\":[{\"type\":\"scatterternary\",\"marker\":{\"colorbar\":{\"outlinewidth\":0,\"ticks\":\"\"}}}],\"scattercarpet\":[{\"type\":\"scattercarpet\",\"marker\":{\"colorbar\":{\"outlinewidth\":0,\"ticks\":\"\"}}}],\"carpet\":[{\"aaxis\":{\"endlinecolor\":\"#2a3f5f\",\"gridcolor\":\"white\",\"linecolor\":\"white\",\"minorgridcolor\":\"white\",\"startlinecolor\":\"#2a3f5f\"},\"baxis\":{\"endlinecolor\":\"#2a3f5f\",\"gridcolor\":\"white\",\"linecolor\":\"white\",\"minorgridcolor\":\"white\",\"startlinecolor\":\"#2a3f5f\"},\"type\":\"carpet\"}],\"table\":[{\"cells\":{\"fill\":{\"color\":\"#EBF0F8\"},\"line\":{\"color\":\"white\"}},\"header\":{\"fill\":{\"color\":\"#C8D4E3\"},\"line\":{\"color\":\"white\"}},\"type\":\"table\"}],\"barpolar\":[{\"marker\":{\"line\":{\"color\":\"#E5ECF6\",\"width\":0.5},\"pattern\":{\"fillmode\":\"overlay\",\"size\":10,\"solidity\":0.2}},\"type\":\"barpolar\"}],\"pie\":[{\"automargin\":true,\"type\":\"pie\"}]},\"layout\":{\"autotypenumbers\":\"strict\",\"colorway\":[\"#636efa\",\"#EF553B\",\"#00cc96\",\"#ab63fa\",\"#FFA15A\",\"#19d3f3\",\"#FF6692\",\"#B6E880\",\"#FF97FF\",\"#FECB52\"],\"font\":{\"color\":\"#2a3f5f\"},\"hovermode\":\"closest\",\"hoverlabel\":{\"align\":\"left\"},\"paper_bgcolor\":\"white\",\"plot_bgcolor\":\"#E5ECF6\",\"polar\":{\"bgcolor\":\"#E5ECF6\",\"angularaxis\":{\"gridcolor\":\"white\",\"linecolor\":\"white\",\"ticks\":\"\"},\"radialaxis\":{\"gridcolor\":\"white\",\"linecolor\":\"white\",\"ticks\":\"\"}},\"ternary\":{\"bgcolor\":\"#E5ECF6\",\"aaxis\":{\"gridcolor\":\"white\",\"linecolor\":\"white\",\"ticks\":\"\"},\"baxis\":{\"gridcolor\":\"white\",\"linecolor\":\"white\",\"ticks\":\"\"},\"caxis\":{\"gridcolor\":\"white\",\"linecolor\":\"white\",\"ticks\":\"\"}},\"coloraxis\":{\"colorbar\":{\"outlinewidth\":0,\"ticks\":\"\"}},\"colorscale\":{\"sequential\":[[0.0,\"#0d0887\"],[0.1111111111111111,\"#46039f\"],[0.2222222222222222,\"#7201a8\"],[0.3333333333333333,\"#9c179e\"],[0.4444444444444444,\"#bd3786\"],[0.5555555555555556,\"#d8576b\"],[0.6666666666666666,\"#ed7953\"],[0.7777777777777778,\"#fb9f3a\"],[0.8888888888888888,\"#fdca26\"],[1.0,\"#f0f921\"]],\"sequentialminus\":[[0.0,\"#0d0887\"],[0.1111111111111111,\"#46039f\"],[0.2222222222222222,\"#7201a8\"],[0.3333333333333333,\"#9c179e\"],[0.4444444444444444,\"#bd3786\"],[0.5555555555555556,\"#d8576b\"],[0.6666666666666666,\"#ed7953\"],[0.7777777777777778,\"#fb9f3a\"],[0.8888888888888888,\"#fdca26\"],[1.0,\"#f0f921\"]],\"diverging\":[[0,\"#8e0152\"],[0.1,\"#c51b7d\"],[0.2,\"#de77ae\"],[0.3,\"#f1b6da\"],[0.4,\"#fde0ef\"],[0.5,\"#f7f7f7\"],[0.6,\"#e6f5d0\"],[0.7,\"#b8e186\"],[0.8,\"#7fbc41\"],[0.9,\"#4d9221\"],[1,\"#276419\"]]},\"xaxis\":{\"gridcolor\":\"white\",\"linecolor\":\"white\",\"ticks\":\"\",\"title\":{\"standoff\":15},\"zerolinecolor\":\"white\",\"automargin\":true,\"zerolinewidth\":2},\"yaxis\":{\"gridcolor\":\"white\",\"linecolor\":\"white\",\"ticks\":\"\",\"title\":{\"standoff\":15},\"zerolinecolor\":\"white\",\"automargin\":true,\"zerolinewidth\":2},\"scene\":{\"xaxis\":{\"backgroundcolor\":\"#E5ECF6\",\"gridcolor\":\"white\",\"linecolor\":\"white\",\"showbackground\":true,\"ticks\":\"\",\"zerolinecolor\":\"white\",\"gridwidth\":2},\"yaxis\":{\"backgroundcolor\":\"#E5ECF6\",\"gridcolor\":\"white\",\"linecolor\":\"white\",\"showbackground\":true,\"ticks\":\"\",\"zerolinecolor\":\"white\",\"gridwidth\":2},\"zaxis\":{\"backgroundcolor\":\"#E5ECF6\",\"gridcolor\":\"white\",\"linecolor\":\"white\",\"showbackground\":true,\"ticks\":\"\",\"zerolinecolor\":\"white\",\"gridwidth\":2}},\"shapedefaults\":{\"line\":{\"color\":\"#2a3f5f\"}},\"annotationdefaults\":{\"arrowcolor\":\"#2a3f5f\",\"arrowhead\":0,\"arrowwidth\":1},\"geo\":{\"bgcolor\":\"white\",\"landcolor\":\"#E5ECF6\",\"subunitcolor\":\"white\",\"showland\":true,\"showlakes\":true,\"lakecolor\":\"white\"},\"title\":{\"x\":0.05},\"mapbox\":{\"style\":\"light\"}}},\"xaxis\":{\"anchor\":\"y\",\"domain\":[0.0,1.0],\"title\":{\"text\":\"month\"}},\"yaxis\":{\"anchor\":\"x\",\"domain\":[0.0,1.0],\"title\":{\"text\":\"passengers\"}},\"legend\":{\"title\":{\"text\":\"country\"},\"tracegroupgap\":0},\"title\":{\"text\":\"Average International Passengers Per Month Travelling into a Country\"},\"height\":1000},                        {\"responsive\": true}                    ).then(function(){\n",
       "                            \n",
       "var gd = document.getElementById('2b7db8a4-7ece-492e-bfee-c9c6e76c4ed7');\n",
       "var x = new MutationObserver(function (mutations, observer) {{\n",
       "        var display = window.getComputedStyle(gd).display;\n",
       "        if (!display || display === 'none') {{\n",
       "            console.log([gd, 'removed!']);\n",
       "            Plotly.purge(gd);\n",
       "            observer.disconnect();\n",
       "        }}\n",
       "}});\n",
       "\n",
       "// Listen for the removal of the full notebook cells\n",
       "var notebookContainer = gd.closest('#notebook-container');\n",
       "if (notebookContainer) {{\n",
       "    x.observe(notebookContainer, {childList: true});\n",
       "}}\n",
       "\n",
       "// Listen for the clearing of the current output cell\n",
       "var outputEl = gd.closest('.output');\n",
       "if (outputEl) {{\n",
       "    x.observe(outputEl, {childList: true});\n",
       "}}\n",
       "\n",
       "                        })                };                });            </script>        </div>"
      ]
     },
     "metadata": {},
     "output_type": "display_data"
    }
   ],
   "source": [
    "fig = px.line(avg_by_year, x=\"month\", y=\"passengers\", color='country', title=\"Average International Passengers Per Month Travelling into a Country\", height=1000)\n",
    "fig.show()"
   ]
  },
  {
   "cell_type": "code",
   "execution_count": null,
   "id": "2625eded",
   "metadata": {},
   "outputs": [],
   "source": []
  }
 ],
 "metadata": {
  "kernelspec": {
   "display_name": "Python 3 (ipykernel)",
   "language": "python",
   "name": "python3"
  },
  "language_info": {
   "codemirror_mode": {
    "name": "ipython",
    "version": 3
   },
   "file_extension": ".py",
   "mimetype": "text/x-python",
   "name": "python",
   "nbconvert_exporter": "python",
   "pygments_lexer": "ipython3",
   "version": "3.9.13"
  }
 },
 "nbformat": 4,
 "nbformat_minor": 5
}
